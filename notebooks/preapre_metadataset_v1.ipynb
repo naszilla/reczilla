{
 "cells": [
  {
   "cell_type": "markdown",
   "metadata": {},
   "source": [
    "This notebook is used to create the meta-dataset for all reczilla meta-learner experiments.\n",
    "\n",
    "### v1.1: \n",
    "\n",
    "This version uses the new experiments, with experiment names starting with `neurips-`.\n",
    "\n",
    "New in v1.1: includes almost all experiments. This only leaves out some knn experiments, which are still running."
   ]
  },
  {
   "cell_type": "code",
   "execution_count": 1,
   "metadata": {},
   "outputs": [],
   "source": [
    "# define the results file here. this file should be created by the script process_inbox.py\n",
    "results_csv = \"/Users/zzzzzz/research/active_projects/reczilla/results/results.csv\"\n",
    "\n",
    "# name of the resulting meta-dataset\n",
    "meta_dataset_name = \"metadata-v1.1\"\n",
    "\n",
    "# define a function that takes a row as input an returns True if the row should be included in the meta-dataset and false otherwise\n",
    "def include_row(row):\n",
    "    if row[\"experiment_name\"].startswith(\"neurips-\"):\n",
    "        return True\n",
    "    else:\n",
    "        return False\n"
   ]
  },
  {
   "cell_type": "code",
   "execution_count": 2,
   "metadata": {},
   "outputs": [
    {
     "name": "stderr",
     "output_type": "stream",
     "text": [
      "/Users/zzzzzz/miniconda3/envs/recsys/lib/python3.6/site-packages/IPython/core/interactiveshell.py:2714: DtypeWarning: Columns (4,13,14,16,17,31,32,38,40,41,42,47) have mixed types. Specify dtype option on import or set low_memory=False.\n",
      "  interactivity=interactivity, compiler=compiler, result=result)\n"
     ]
    }
   ],
   "source": [
    "import pandas as pd\n",
    "import numpy as np\n",
    "\n",
    "df = pd.read_csv(results_csv, sep=\";\")"
   ]
  },
  {
   "cell_type": "markdown",
   "metadata": {},
   "source": [
    "## Filter the results based on the function \"include_row\""
   ]
  },
  {
   "cell_type": "code",
   "execution_count": 3,
   "metadata": {},
   "outputs": [
    {
     "name": "stderr",
     "output_type": "stream",
     "text": [
      "/Users/zzzzzz/miniconda3/envs/recsys/lib/python3.6/site-packages/pandas/core/indexing.py:362: SettingWithCopyWarning: \n",
      "A value is trying to be set on a copy of a slice from a DataFrame.\n",
      "Try using .loc[row_indexer,col_indexer] = value instead\n",
      "\n",
      "See the caveats in the documentation: http://pandas.pydata.org/pandas-docs/stable/indexing.html#indexing-view-versus-copy\n",
      "  self.obj[key] = _infer_fill_value(value)\n",
      "/Users/zzzzzz/miniconda3/envs/recsys/lib/python3.6/site-packages/pandas/core/indexing.py:543: SettingWithCopyWarning: \n",
      "A value is trying to be set on a copy of a slice from a DataFrame.\n",
      "Try using .loc[row_indexer,col_indexer] = value instead\n",
      "\n",
      "See the caveats in the documentation: http://pandas.pydata.org/pandas-docs/stable/indexing.html#indexing-view-versus-copy\n",
      "  self.obj[item] = s\n"
     ]
    }
   ],
   "source": [
    "### keep experiments indicated by function include_row\n",
    "experiment_prefix = \"full-experiment-\"\n",
    "keep_rows = df.apply(include_row, axis=1)\n",
    "df_expt = df.loc[keep_rows, :]\n",
    "\n",
    "### if there are any rows with no metrics, drop them...\n",
    "metric_col_list = [c for c in df_expt.columns if c.startswith(\"test_metric_\") or c.startswith(\"val_metric_\")]\n",
    "df_expt.loc[:, \"all_na_metrics\"] = df_expt[metric_col_list].isna().all(axis=1)\n",
    "df_expt = df_expt.loc[~df_expt[\"all_na_metrics\"], :]"
   ]
  },
  {
   "cell_type": "markdown",
   "metadata": {},
   "source": [
    "### sanity check 1: make sure that for each alg_name + hyperparameters_source combination all hyperparams are the same. \n",
    "\n",
    "**Note:** if any warnings are printed here, we need to investigate. "
   ]
  },
  {
   "cell_type": "code",
   "execution_count": 4,
   "metadata": {},
   "outputs": [
    {
     "name": "stderr",
     "output_type": "stream",
     "text": [
      "/Users/zzzzzz/miniconda3/envs/recsys/lib/python3.6/site-packages/ipykernel_launcher.py:5: FutureWarning: using a dict on a Series for aggregation\n",
      "is deprecated and will be removed in a future version\n",
      "  \"\"\"\n"
     ]
    }
   ],
   "source": [
    "param_list = [c for c in df_expt.columns if c.startswith(\"param_\")]\n",
    "\n",
    "for param_name in param_list:\n",
    "    x = df_expt.groupby([\"alg_name\", \"hyperparameters_source\"])[param_name].agg(\n",
    "        {\"one_unique_param\": lambda x: len(x.unique()) == 1}\n",
    "    ).reset_index()\n",
    "    if not all(x[\"one_unique_param\"]):\n",
    "        print(f\"WARNING: for param {param_name}, params aren't uniquely defined:\")\n",
    "        print(x[~x[\"one_unique_param\"]])\n",
    "\n",
    "# use a line like this to diagnose issues:\n",
    "# df_expt[(df_expt[\"alg_name\"] == \"ItemKNNCF_asymmetric\") & (df_expt[\"hyperparameters_source\"] == \"random_0\")][[\"experiment_name\"] + param_list]"
   ]
  },
  {
   "cell_type": "markdown",
   "metadata": {},
   "source": [
    "### final cleanup:\n",
    "- define columns \"alg_family\" (e.g., UserKNN) and \"parameterized_alg_name\" (e.g., UserKNN_hparams_1). \n",
    "- param cols\n",
    "- metric cols\n",
    "- runtime\n",
    "- dataset name\n",
    "- dataset split name\n",
    "- dataset source from gcloud"
   ]
  },
  {
   "cell_type": "code",
   "execution_count": 5,
   "metadata": {},
   "outputs": [],
   "source": [
    "keep_cols = [\n",
    "    \"alg_name\",\n",
    "    \"dataset_name\",\n",
    "    \"split_name\",\n",
    "    \"original_split_path\",\n",
    "    \"hyperparameters_source\", \n",
    "    \"time_on_val\",\n",
    "    \"time_on_test\",\n",
    "    \"time_on_train\",\n",
    "] + metric_col_list + param_list\n",
    "\n",
    "final_df = df_expt.loc[:, keep_cols]\n",
    "\n",
    "final_df.rename(columns={\"alg_name\": \"alg_family\"}, inplace=True)\n",
    "\n",
    "# assign a unique identifier for each alg+hyperparam pair\n",
    "final_df.loc[:, \"alg_param_name\"] = \"\"\n",
    "\n",
    "sep = \":\"\n",
    "\n",
    "# for all algs except for KNN, this is straightforward:\n",
    "knn_rows = final_df[\"alg_family\"].str.contains(\"KNN\")\n",
    "final_df.loc[~knn_rows, \"alg_param_name\"] = final_df.loc[~knn_rows, :].apply(lambda x: x[\"alg_family\"] + sep + x[\"hyperparameters_source\"], axis=1)\n",
    "\n",
    "# for KNN rows, the alg family is UserKNN or ItemKNN, not including similarity...\n",
    "knn_basename = final_df.loc[knn_rows, \"alg_family\"].apply(lambda x: x.split(\"_\")[0])\n",
    "knn_sim = final_df.loc[knn_rows, \"alg_family\"].apply(lambda x: x.split(\"_\")[1])\n",
    "final_df.loc[knn_rows, \"alg_family\"] = knn_basename  # either UserKNN or ItemKNN\n",
    "final_df.loc[knn_rows, \"alg_param_name\"] = knn_basename + sep + knn_sim + \"_\" + final_df.loc[knn_rows, \"hyperparameters_source\"]\n",
    "\n",
    "\n",
    "# final_df.loc[:, \"alg_param_name\"] = final_df.apply(lambda x: x[\"alg_family\"] + \":\" + x[\"hyperparameters_source\"], axis=1)"
   ]
  },
  {
   "cell_type": "markdown",
   "metadata": {},
   "source": [
    "### sanity check 2: check whether there are multiple rows for each alg + hyperparam + dataset combination. if so, make sure the results are identical"
   ]
  },
  {
   "cell_type": "code",
   "execution_count": 8,
   "metadata": {},
   "outputs": [
    {
     "name": "stdout",
     "output_type": "stream",
     "text": [
      "number of alg+param+dataset combinations with multiple results: 0\n"
     ]
    }
   ],
   "source": [
    "z = final_df.groupby([\"alg_param_name\", \"original_split_path\"]).size().rename(\"num_rows\").reset_index()\n",
    "z_multiple = z[z['num_rows'] > 1]\n",
    "print(f\"number of alg+param+dataset combinations with multiple results: {len(z_multiple)}\")"
   ]
  },
  {
   "cell_type": "code",
   "execution_count": 7,
   "metadata": {},
   "outputs": [
    {
     "name": "stdout",
     "output_type": "stream",
     "text": [
      "dropping duplicates...\n"
     ]
    }
   ],
   "source": [
    "if len(z_multiple) > 0:\n",
    "\n",
    "    # for each combination with multiple rows, find the difference in metric values between first two rows\n",
    "    for i, (a_p_n, o_s_p) in z_multiple[[\"alg_param_name\", \"original_split_path\"]].iterrows():\n",
    "        row_data = final_df.loc[(final_df[\"alg_param_name\"] == a_p_n) & (final_df[\"original_split_path\"] == o_s_p), metric_col_list].values\n",
    "        if np.linalg.norm(row_data[0, :] - row_data[1, :]) > 1e-5:\n",
    "            print(f\"WARNING: difference between multiple results is non-negligible for alg={a_p_n}, dataset={o_s_p}\")\n",
    "    \n",
    "    # drop duplicates, keep first row only.\n",
    "    print(\"dropping duplicates...\")\n",
    "    final_df.drop_duplicates(subset=[\"alg_param_name\", \"original_split_path\"], keep=\"first\", inplace=True)\n"
   ]
  },
  {
   "cell_type": "markdown",
   "metadata": {},
   "source": [
    "## write results"
   ]
  },
  {
   "cell_type": "code",
   "execution_count": 9,
   "metadata": {},
   "outputs": [],
   "source": [
    "# write the dataset to file\n",
    "out_file = f\"./meta_datasets/{meta_dataset_name}.pkl\"\n",
    "\n",
    "final_df.to_pickle(out_file)\n",
    "\n",
    "# to read this file, do:\n",
    "# final_df_2 = pd.read_pickle(out_file)"
   ]
  },
  {
   "cell_type": "markdown",
   "metadata": {},
   "source": [
    "### Basic numbers"
   ]
  },
  {
   "cell_type": "code",
   "execution_count": 10,
   "metadata": {},
   "outputs": [
    {
     "name": "stdout",
     "output_type": "stream",
     "text": [
      "total number of parameterized algs: 1476\n",
      "total number of datasets: 85\n",
      "total number of rows: 78929\n",
      "--------------------------------------\n",
      "total number of rows for each alg family: alg_family\n",
      "CoClustering                           5106\n",
      "EASE_R_Recommender                     4376\n",
      "GlobalEffects                            85\n",
      "IALSRecommender                        3502\n",
      "ItemKNNCF                             12847\n",
      "MatrixFactorization_AsySVD_Cython      4254\n",
      "MatrixFactorization_BPR_Cython         5659\n",
      "MatrixFactorization_FunkSVD_Cython     4938\n",
      "NMFRecommender                         2957\n",
      "P3alphaRecommender                     5816\n",
      "PureSVDRecommender                     6132\n",
      "RP3betaRecommender                     5900\n",
      "Random                                   85\n",
      "SLIMElasticNetRecommender              4706\n",
      "SLIM_BPR_Cython                        5176\n",
      "SlopeOne                                 48\n",
      "TopPop                                   85\n",
      "UserKNNCF                              7257\n",
      "dtype: int64\n",
      "--------------------------------------\n",
      "total number of rows for each dataset: original_split_path\n",
      "gs://reczilla-results/dataset-splits/splits-v5/AmazonAllBeauty/DataSplitter_leave_k_out_last                1456\n",
      "gs://reczilla-results/dataset-splits/splits-v5/AmazonAllElectronics/DataSplitter_leave_k_out_last           1453\n",
      "gs://reczilla-results/dataset-splits/splits-v5/AmazonAlternativeRock/DataSplitter_leave_k_out_last          1449\n",
      "gs://reczilla-results/dataset-splits/splits-v5/AmazonAmazonFashion/DataSplitter_leave_k_out_last            1320\n",
      "gs://reczilla-results/dataset-splits/splits-v5/AmazonAmazonInstantVideo/DataSplitter_leave_k_out_last        984\n",
      "gs://reczilla-results/dataset-splits/splits-v5/AmazonAppliances/DataSplitter_leave_k_out_last               1346\n",
      "gs://reczilla-results/dataset-splits/splits-v5/AmazonAppsforAndroid/DataSplitter_leave_k_out_last            245\n",
      "gs://reczilla-results/dataset-splits/splits-v5/AmazonAppstoreforAndroid/DataSplitter_leave_k_out_last       1443\n",
      "gs://reczilla-results/dataset-splits/splits-v5/AmazonArtsCraftsSewing/DataSplitter_leave_k_out_last          684\n",
      "gs://reczilla-results/dataset-splits/splits-v5/AmazonAutomotive/DataSplitter_leave_k_out_last                296\n",
      "gs://reczilla-results/dataset-splits/splits-v5/AmazonBaby/DataSplitter_leave_k_out_last                      553\n",
      "gs://reczilla-results/dataset-splits/splits-v5/AmazonBabyProducts/DataSplitter_leave_k_out_last             1319\n",
      "gs://reczilla-results/dataset-splits/splits-v5/AmazonBeauty/DataSplitter_leave_k_out_last                    216\n",
      "gs://reczilla-results/dataset-splits/splits-v5/AmazonBlues/DataSplitter_leave_k_out_last                    1443\n",
      "gs://reczilla-results/dataset-splits/splits-v5/AmazonBuyaKindle/DataSplitter_leave_k_out_last               1391\n",
      "gs://reczilla-results/dataset-splits/splits-v5/AmazonCDsVinyl/DataSplitter_leave_k_out_last                   83\n",
      "gs://reczilla-results/dataset-splits/splits-v5/AmazonCellPhonesAccessories/DataSplitter_leave_k_out_last     119\n",
      "gs://reczilla-results/dataset-splits/splits-v5/AmazonChristian/DataSplitter_leave_k_out_last                1449\n",
      "gs://reczilla-results/dataset-splits/splits-v5/AmazonClassical/DataSplitter_leave_k_out_last                1458\n",
      "gs://reczilla-results/dataset-splits/splits-v5/AmazonClothingShoesJewelry/DataSplitter_leave_k_out_last       18\n",
      "gs://reczilla-results/dataset-splits/splits-v5/AmazonCollectiblesFineArt/DataSplitter_leave_k_out_last      1440\n",
      "gs://reczilla-results/dataset-splits/splits-v5/AmazonComputers/DataSplitter_leave_k_out_last                1443\n",
      "gs://reczilla-results/dataset-splits/splits-v5/AmazonCountry/DataSplitter_leave_k_out_last                  1444\n",
      "gs://reczilla-results/dataset-splits/splits-v5/AmazonDanceElectronic/DataSplitter_leave_k_out_last          1463\n",
      "gs://reczilla-results/dataset-splits/splits-v5/AmazonDavis/DataSplitter_leave_k_out_last                    1444\n",
      "gs://reczilla-results/dataset-splits/splits-v5/AmazonDigitalMusic/DataSplitter_leave_k_out_last              352\n",
      "gs://reczilla-results/dataset-splits/splits-v5/AmazonElectronics/DataSplitter_leave_k_out_last                36\n",
      "gs://reczilla-results/dataset-splits/splits-v5/AmazonFolk/DataSplitter_leave_k_out_last                     1445\n",
      "gs://reczilla-results/dataset-splits/splits-v5/AmazonGiftCards/DataSplitter_leave_k_out_last                1457\n",
      "gs://reczilla-results/dataset-splits/splits-v5/AmazonGospel/DataSplitter_leave_k_out_last                   1446\n",
      "                                                                                                            ... \n",
      "gs://reczilla-results/dataset-splits/splits-v5/AmazonRock/DataSplitter_leave_k_out_last                     1407\n",
      "gs://reczilla-results/dataset-splits/splits-v5/AmazonSoftware/DataSplitter_leave_k_out_last                 1152\n",
      "gs://reczilla-results/dataset-splits/splits-v5/AmazonSportsOutdoors/DataSplitter_leave_k_out_last             91\n",
      "gs://reczilla-results/dataset-splits/splits-v5/AmazonToolsHomeImprovement/DataSplitter_leave_k_out_last      245\n",
      "gs://reczilla-results/dataset-splits/splits-v5/AmazonToysGames/DataSplitter_leave_k_out_last                 161\n",
      "gs://reczilla-results/dataset-splits/splits-v5/AmazonVideoGames/DataSplitter_leave_k_out_last                513\n",
      "gs://reczilla-results/dataset-splits/splits-v5/AmazonWine/DataSplitter_leave_k_out_last                     1419\n",
      "gs://reczilla-results/dataset-splits/splits-v5/Anime/DataSplitter_leave_k_out_last                           582\n",
      "gs://reczilla-results/dataset-splits/splits-v5/BookCrossing/DataSplitter_leave_k_out_last                    439\n",
      "gs://reczilla-results/dataset-splits/splits-v5/CiaoDVD/DataSplitter_leave_k_out_last                        1170\n",
      "gs://reczilla-results/dataset-splits/splits-v5/Dating/DataSplitter_leave_k_out_last                          181\n",
      "gs://reczilla-results/dataset-splits/splits-v5/Epinions/DataSplitter_leave_k_out_last                        542\n",
      "gs://reczilla-results/dataset-splits/splits-v5/FilmTrust/DataSplitter_leave_k_out_last                      1293\n",
      "gs://reczilla-results/dataset-splits/splits-v5/Frappe/DataSplitter_leave_k_out_last                         1310\n",
      "gs://reczilla-results/dataset-splits/splits-v5/Gowalla/DataSplitter_leave_k_out_last                          68\n",
      "gs://reczilla-results/dataset-splits/splits-v5/Jester2/DataSplitter_leave_k_out_last                         785\n",
      "gs://reczilla-results/dataset-splits/splits-v5/LastFM/DataSplitter_leave_k_out_last                         1072\n",
      "gs://reczilla-results/dataset-splits/splits-v5/MarketBiasAmazon/DataSplitter_leave_k_out_last               1199\n",
      "gs://reczilla-results/dataset-splits/splits-v5/MarketBiasModCloth/DataSplitter_leave_k_out_last             1306\n",
      "gs://reczilla-results/dataset-splits/splits-v5/MovieTweetings/DataSplitter_leave_k_out_last                  718\n",
      "gs://reczilla-results/dataset-splits/splits-v5/Movielens100K/DataSplitter_leave_k_out_last                  1250\n",
      "gs://reczilla-results/dataset-splits/splits-v5/Movielens10M/DataSplitter_leave_k_out_last                    620\n",
      "gs://reczilla-results/dataset-splits/splits-v5/Movielens1M/DataSplitter_leave_k_out_last                    1092\n",
      "gs://reczilla-results/dataset-splits/splits-v5/Movielens20M/DataSplitter_leave_k_out_last                    313\n",
      "gs://reczilla-results/dataset-splits/splits-v5/MovielensHetrec2011/DataSplitter_leave_k_out_last            1073\n",
      "gs://reczilla-results/dataset-splits/splits-v5/NetflixPrize/DataSplitter_leave_k_out_last                     86\n",
      "gs://reczilla-results/dataset-splits/splits-v5/Recipes/DataSplitter_leave_k_out_last                         410\n",
      "gs://reczilla-results/dataset-splits/splits-v5/Wikilens/DataSplitter_leave_k_out_last                       1263\n",
      "gs://reczilla-results/dataset-splits/splits-v5/YahooMovies/DataSplitter_leave_k_out_last                    1106\n",
      "gs://reczilla-results/dataset-splits/splits-v5/YahooMusic/DataSplitter_leave_k_out_last                       21\n",
      "Length: 85, dtype: int64\n"
     ]
    }
   ],
   "source": [
    "print(f\"total number of parameterized algs: {len(final_df['alg_param_name'].unique())}\")\n",
    "print(f\"total number of datasets: {len(final_df['original_split_path'].unique())}\")\n",
    "print(f\"total number of rows: {len(final_df)}\")\n",
    "print('--------------------------------------')\n",
    "print(f\"total number of rows for each alg family: {final_df.groupby('alg_family').size()}\")\n",
    "print('--------------------------------------')\n",
    "print(f\"total number of rows for each dataset: {final_df.groupby('original_split_path').size()}\")"
   ]
  },
  {
   "cell_type": "code",
   "execution_count": null,
   "metadata": {},
   "outputs": [],
   "source": []
  }
 ],
 "metadata": {
  "interpreter": {
   "hash": "9a49d437ec7d70416a2164b1de0841ecb25c4cf254d34094d737b88836beceb4"
  },
  "kernelspec": {
   "display_name": "Python 3.6.13 ('recsys')",
   "language": "python",
   "name": "python3"
  },
  "language_info": {
   "codemirror_mode": {
    "name": "ipython",
    "version": 3
   },
   "file_extension": ".py",
   "mimetype": "text/x-python",
   "name": "python",
   "nbconvert_exporter": "python",
   "pygments_lexer": "ipython3",
   "version": "3.6.13"
  },
  "orig_nbformat": 4
 },
 "nbformat": 4,
 "nbformat_minor": 2
}
