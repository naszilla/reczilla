{
 "cells": [
  {
   "cell_type": "markdown",
   "metadata": {},
   "source": [
    "This notebook is used to create the meta-dataset for all reczilla meta-learner experiments."
   ]
  },
  {
   "cell_type": "code",
   "execution_count": 80,
   "metadata": {},
   "outputs": [],
   "source": [
    "# define the results file here. this file should be created by the script process_inbox.py\n",
    "results_csv = \"/Users/duncan/research/active_projects/reczilla/results/results.csv\"\n",
    "\n",
    "# name of the resulting meta-dataset\n",
    "meta_dataset_name = \"metadata-v0\"\n",
    "\n",
    "# define a function that takes a row as input an returns True if the row should be included in the meta-dataset and false otherwise\n",
    "def include_row(row):\n",
    "    if row[\"experiment_name\"].startswith(\"full-experiment-\") and (\"test\" not in row[\"experiment_name\"]):\n",
    "        return True\n",
    "    else:\n",
    "        return False\n"
   ]
  },
  {
   "cell_type": "code",
   "execution_count": 81,
   "metadata": {},
   "outputs": [],
   "source": [
    "import pandas as pd\n",
    "import numpy as np\n",
    "\n",
    "df = pd.read_csv(results_csv, sep=\";\")"
   ]
  },
  {
   "cell_type": "markdown",
   "metadata": {},
   "source": [
    "## Filter the results based on the function \"include_row\""
   ]
  },
  {
   "cell_type": "code",
   "execution_count": null,
   "metadata": {},
   "outputs": [
    {
     "name": "stderr",
     "output_type": "stream",
     "text": [
      "/Users/duncan/miniconda3/envs/recsys/lib/python3.6/site-packages/pandas/core/indexing.py:362: SettingWithCopyWarning: \n",
      "A value is trying to be set on a copy of a slice from a DataFrame.\n",
      "Try using .loc[row_indexer,col_indexer] = value instead\n",
      "\n",
      "See the caveats in the documentation: http://pandas.pydata.org/pandas-docs/stable/indexing.html#indexing-view-versus-copy\n",
      "  self.obj[key] = _infer_fill_value(value)\n",
      "/Users/duncan/miniconda3/envs/recsys/lib/python3.6/site-packages/pandas/core/indexing.py:543: SettingWithCopyWarning: \n",
      "A value is trying to be set on a copy of a slice from a DataFrame.\n",
      "Try using .loc[row_indexer,col_indexer] = value instead\n",
      "\n",
      "See the caveats in the documentation: http://pandas.pydata.org/pandas-docs/stable/indexing.html#indexing-view-versus-copy\n",
      "  self.obj[item] = s\n"
     ]
    }
   ],
   "source": [
    "### keep experiments indicated by function include_row\n",
    "experiment_prefix = \"full-experiment-\"\n",
    "keep_rows = df.apply(include_row, axis=1)\n",
    "df_expt = df.loc[keep_rows, :]\n",
    "\n",
    "### if there are any rows with no metrics, drop them...\n",
    "metric_col_list = [c for c in df_expt.columns if c.startswith(\"test_metric_\") or c.startswith(\"val_metric_\")]\n",
    "df_expt.loc[:, \"all_na_metrics\"] = df_expt[metric_col_list].isna().all(axis=1)\n",
    "df_expt = df_expt.loc[~df_expt[\"all_na_metrics\"], :]"
   ]
  },
  {
   "cell_type": "markdown",
   "metadata": {},
   "source": [
    "### sanity check: make sure that for each alg_name + hyperparameters_source combination all hyperparams are the same. \n",
    "\n",
    "**Note:** if any warnings are printed here, we need to investigate. "
   ]
  },
  {
   "cell_type": "code",
   "execution_count": null,
   "metadata": {},
   "outputs": [
    {
     "name": "stderr",
     "output_type": "stream",
     "text": [
      "/Users/duncan/miniconda3/envs/recsys/lib/python3.6/site-packages/ipykernel_launcher.py:5: FutureWarning: using a dict on a Series for aggregation\n",
      "is deprecated and will be removed in a future version\n",
      "  \"\"\"\n"
     ]
    }
   ],
   "source": [
    "param_list = [c for c in df_expt.columns if c.startswith(\"param_\")]\n",
    "\n",
    "for param_name in param_list:\n",
    "    x = df_expt.groupby([\"alg_name\", \"hyperparameters_source\"])[param_name].agg(\n",
    "        {\"one_unique_param\": lambda x: len(x.unique()) == 1}\n",
    "    ).reset_index()\n",
    "    if not all(x[\"one_unique_param\"]):\n",
    "        print(f\"WARNING: for param {param_name}, params aren't uniquely defined:\")\n",
    "        print(x[~x[\"one_unique_param\"]])\n",
    "\n",
    "# use a line like this to diagnose issues:\n",
    "# df_expt[(df_expt[\"alg_name\"] == \"ItemKNNCF_asymmetric\") & (df_expt[\"hyperparameters_source\"] == \"random_0\")][[\"experiment_name\"] + param_list]"
   ]
  },
  {
   "cell_type": "markdown",
   "metadata": {},
   "source": [
    "### final cleanup:\n",
    "- define columns \"alg_family\" (e.g., UserKNN) and \"parameterized_alg_name\" (e.g., UserKNN_hparams_1). \n",
    "- param cols\n",
    "- metric cols\n",
    "- runtime\n",
    "- dataset name\n",
    "- dataset split name\n",
    "- dataset source from gcloud"
   ]
  },
  {
   "cell_type": "code",
   "execution_count": null,
   "metadata": {},
   "outputs": [],
   "source": [
    "keep_cols = [\n",
    "    \"alg_name\",\n",
    "    \"dataset_name\",\n",
    "    \"split_name\",\n",
    "    \"original_split_path\",\n",
    "    \"hyperparameters_source\", \n",
    "    \"time_on_val\",\n",
    "    \"time_on_test\",\n",
    "    \"time_on_train\",\n",
    "] + metric_col_list + param_list\n",
    "\n",
    "final_df = df_expt.loc[:, keep_cols]\n",
    "\n",
    "final_df.rename(columns={\"alg_name\": \"alg_family\"}, inplace=True)\n",
    "\n",
    "# assign a unique identifier for each alg+hyperparam pair\n",
    "final_df.loc[:, \"alg_param_name\"] = \"\"\n",
    "\n",
    "sep = \":\"\n",
    "\n",
    "# for all algs except for KNN, this is straightforward:\n",
    "knn_rows = final_df[\"alg_family\"].str.contains(\"KNN\")\n",
    "final_df.loc[~knn_rows, \"alg_param_name\"] = final_df.loc[~knn_rows, :].apply(lambda x: x[\"alg_family\"] + sep + x[\"hyperparameters_source\"], axis=1)\n",
    "\n",
    "# for KNN rows, the alg family is UserKNN or ItemKNN, not including similarity...\n",
    "knn_basename = final_df.loc[knn_rows, \"alg_family\"].apply(lambda x: x.split(\"_\")[0])\n",
    "knn_sim = final_df.loc[knn_rows, \"alg_family\"].apply(lambda x: x.split(\"_\")[1])\n",
    "final_df.loc[knn_rows, \"alg_family\"] = knn_basename  # either UserKNN or ItemKNN\n",
    "final_df.loc[knn_rows, \"alg_param_name\"] = knn_basename + sep + knn_sim + \"_\" + final_df.loc[knn_rows, \"hyperparameters_source\"]\n",
    "\n",
    "\n",
    "# final_df.loc[:, \"alg_param_name\"] = final_df.apply(lambda x: x[\"alg_family\"] + \":\" + x[\"hyperparameters_source\"], axis=1)"
   ]
  },
  {
   "cell_type": "code",
   "execution_count": null,
   "metadata": {},
   "outputs": [],
   "source": [
    "# write the dataset to file\n",
    "out_file = f\"./meta_datasets/{meta_dataset_name}.pkl\"\n",
    "\n",
    "final_df.to_pickle(out_file)\n",
    "\n",
    "# to read this file, do:\n",
    "# final_df_2 = pd.read_pickle(out_file)"
   ]
  },
  {
   "cell_type": "markdown",
   "metadata": {},
   "source": [
    "### Basic numbers"
   ]
  },
  {
   "cell_type": "code",
   "execution_count": null,
   "metadata": {},
   "outputs": [
    {
     "name": "stdout",
     "output_type": "stream",
     "text": [
      "total number of parameterized algs: 2406\n"
     ]
    }
   ],
   "source": [
    "print(f\"total number of parameterized algs: {len(final_df['alg_param_name'].unique())}\")"
   ]
  }
 ],
 "metadata": {
  "interpreter": {
   "hash": "9a49d437ec7d70416a2164b1de0841ecb25c4cf254d34094d737b88836beceb4"
  },
  "kernelspec": {
   "display_name": "Python 3.6.13 ('recsys')",
   "language": "python",
   "name": "python3"
  },
  "language_info": {
   "codemirror_mode": {
    "name": "ipython",
    "version": 3
   },
   "file_extension": ".py",
   "mimetype": "text/x-python",
   "name": "python",
   "nbconvert_exporter": "python",
   "pygments_lexer": "ipython3",
   "version": "3.6.13"
  },
  "orig_nbformat": 4
 },
 "nbformat": 4,
 "nbformat_minor": 2
}
