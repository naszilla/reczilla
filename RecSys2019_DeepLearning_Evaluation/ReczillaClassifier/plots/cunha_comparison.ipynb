{
 "cells": [
  {
   "cell_type": "code",
   "execution_count": 37,
   "metadata": {},
   "outputs": [],
   "source": [
    "import pickle\n",
    "from typing import DefaultDict\n",
    "import numpy as np\n",
    "import matplotlib.pyplot as plt\n",
    "import matplotlib\n",
    "matplotlib.rcParams['pdf.fonttype'] = 42"
   ]
  },
  {
   "cell_type": "code",
   "execution_count": 38,
   "metadata": {},
   "outputs": [],
   "source": [
    "# metric = \"perf_of_best_predicted\"\n",
    "metric = 'perc_diff_from_best_global'"
   ]
  },
  {
   "cell_type": "markdown",
   "metadata": {},
   "source": [
    "## Cunha 2018"
   ]
  },
  {
   "cell_type": "code",
   "execution_count": 39,
   "metadata": {},
   "outputs": [],
   "source": [
    "# load the results\n",
    "\n",
    "results_file = open('../results/meta_cunha2018_fixed.pkl', 'rb')\n",
    "all_results = pickle.load(results_file)\n",
    "results_file.close()\n",
    "\n",
    "num_trials = 5\n",
    "models = [\"svm-poly\"]"
   ]
  },
  {
   "cell_type": "code",
   "execution_count": 40,
   "metadata": {},
   "outputs": [],
   "source": [
    "results_per_model = {model: [] for model in models}\n",
    "for dataset in all_results:\n",
    "    for trial in all_results[dataset]:\n",
    "        for model in all_results[dataset][trial]:\n",
    "            if model in ['num_train', 'num_algs', 'num_feats']: continue\n",
    "            for perf in all_results[dataset][trial][model]:\n",
    "                results_per_model[model].append(perf[metric])"
   ]
  },
  {
   "cell_type": "code",
   "execution_count": 41,
   "metadata": {},
   "outputs": [
    {
     "data": {
      "text/plain": [
       "0.5289236986148044"
      ]
     },
     "execution_count": 41,
     "metadata": {},
     "output_type": "execute_result"
    }
   ],
   "source": [
    "np.mean(results_per_model['svm-poly'])"
   ]
  },
  {
   "cell_type": "markdown",
   "metadata": {},
   "source": [
    "## CF4CF"
   ]
  },
  {
   "cell_type": "code",
   "execution_count": 42,
   "metadata": {},
   "outputs": [],
   "source": [
    "# load the results\n",
    "\n",
    "results_file = open('../results/meta_cf4cf_fixed.pkl', 'rb')\n",
    "all_results = pickle.load(results_file)\n",
    "results_file.close()\n",
    "\n",
    "num_trials = 5\n",
    "models = [\"knn\"]"
   ]
  },
  {
   "cell_type": "code",
   "execution_count": 43,
   "metadata": {},
   "outputs": [],
   "source": [
    "results_per_model = {model: [] for model in models}\n",
    "for dataset in all_results:\n",
    "    for trial in all_results[dataset]:\n",
    "        for model in all_results[dataset][trial]:\n",
    "            if model in ['num_train', 'num_algs', 'num_feats']: continue\n",
    "            for perf in all_results[dataset][trial][model]:\n",
    "                results_per_model[model].append(perf[metric])"
   ]
  },
  {
   "cell_type": "code",
   "execution_count": 44,
   "metadata": {},
   "outputs": [
    {
     "data": {
      "text/plain": [
       "0.38142007622784335"
      ]
     },
     "execution_count": 44,
     "metadata": {},
     "output_type": "execute_result"
    }
   ],
   "source": [
    "np.mean(results_per_model['knn'])"
   ]
  },
  {
   "cell_type": "markdown",
   "metadata": {},
   "source": [
    "## RecZilla"
   ]
  },
  {
   "cell_type": "code",
   "execution_count": 45,
   "metadata": {},
   "outputs": [],
   "source": [
    "# load the results\n",
    "\n",
    "results_file = open('../results/meta_reczilla_fixed.pkl', 'rb')\n",
    "all_results = pickle.load(results_file)\n",
    "results_file.close()\n",
    "\n",
    "num_trials = 5\n",
    "models = ['xgboost', 'random', 'knn', 'linear']"
   ]
  },
  {
   "cell_type": "code",
   "execution_count": 46,
   "metadata": {},
   "outputs": [],
   "source": [
    "results_per_model = {model: [] for model in models}\n",
    "for dataset in all_results:\n",
    "    for trial in all_results[dataset]:\n",
    "        for model in all_results[dataset][trial]:\n",
    "            if model in ['num_train', 'num_algs', 'num_feats']: continue\n",
    "            for perf in all_results[dataset][trial][model]:\n",
    "                results_per_model[model].append(perf[metric])"
   ]
  },
  {
   "cell_type": "code",
   "execution_count": 47,
   "metadata": {},
   "outputs": [
    {
     "name": "stdout",
     "output_type": "stream",
     "text": [
      "xgboost 0.29945300719451173\n",
      "random 0.4589805046086877\n",
      "knn 0.3477618546333462\n",
      "linear 0.39451795307588317\n"
     ]
    }
   ],
   "source": [
    "for model in models:\n",
    "    print(model, np.mean(results_per_model[model]))"
   ]
  },
  {
   "cell_type": "code",
   "execution_count": null,
   "metadata": {},
   "outputs": [],
   "source": []
  }
 ],
 "metadata": {
  "kernelspec": {
   "display_name": "Python 3",
   "language": "python",
   "name": "python3"
  },
  "language_info": {
   "codemirror_mode": {
    "name": "ipython",
    "version": 3
   },
   "file_extension": ".py",
   "mimetype": "text/x-python",
   "name": "python",
   "nbconvert_exporter": "python",
   "pygments_lexer": "ipython3",
   "version": "3.7.6"
  }
 },
 "nbformat": 4,
 "nbformat_minor": 4
}
