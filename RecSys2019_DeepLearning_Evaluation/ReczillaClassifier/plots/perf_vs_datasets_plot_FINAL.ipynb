{
 "cells": [
  {
   "cell_type": "code",
   "execution_count": 98,
   "id": "ea311c05-d02b-4fa3-9db8-6bd373d52600",
   "metadata": {},
   "outputs": [],
   "source": [
    "import pickle\n",
    "from typing import DefaultDict\n",
    "import numpy as np\n",
    "import pandas as pd\n",
    "import matplotlib.pyplot as plt\n",
    "plt.rcParams['text.usetex'] = True\n",
    "import matplotlib\n",
    "matplotlib.rcParams['pdf.fonttype'] = 42\n",
    "\n",
    "\n",
    "\n",
    "# results_file = open('/Users/duncan/Downloads/meta_perf_vs_num_train.pkl', 'rb')\n",
    "results_file = open('/Users/duncan/Downloads/meta_perf_vs_num_train_fixed_200trials.pkl', 'rb')  # new file\n",
    "all_results = pickle.load(results_file)\n",
    "results_file.close()"
   ]
  },
  {
   "cell_type": "code",
   "execution_count": 54,
   "id": "80bdbfdd",
   "metadata": {},
   "outputs": [],
   "source": [
    "### Helper\n",
    "\n",
    "from matplotlib import transforms\n",
    "\n",
    "\n",
    "def draw_dodge(*args, **kwargs):\n",
    "    func = args[0]\n",
    "    dodge = kwargs.pop(\"dodge\", 0)\n",
    "    ax = kwargs.pop(\"ax\", plt.gca())\n",
    "    trans = ax.transData  + transforms.ScaledTranslation(dodge/72., 0,\n",
    "                                   ax.figure.dpi_scale_trans)\n",
    "    artist = func(*args[1:], **kwargs)\n",
    "    def iterate(artist):\n",
    "        if hasattr(artist, '__iter__'):\n",
    "            for obj in artist:\n",
    "                iterate(obj)\n",
    "        else:\n",
    "            artist.set_transform(trans)\n",
    "    iterate(artist)\n",
    "    return artist\n"
   ]
  },
  {
   "cell_type": "code",
   "execution_count": 63,
   "id": "f05a84c6-9072-4cfe-8323-1b3368332819",
   "metadata": {},
   "outputs": [],
   "source": [
    "# # (num_trials is just used to verify all evaluations succeeded)\n",
    "# pct_diff = \"perc_diff_from_best_global\"\n",
    "# mae = 'mae'\n",
    "\n",
    "num_trials=200\n",
    "\n",
    "models = ['xgboost', 'random', 'knn', 'linear']"
   ]
  },
  {
   "cell_type": "code",
   "execution_count": 64,
   "id": "9db7d2a0",
   "metadata": {},
   "outputs": [],
   "source": [
    "metrics = [\"mae\", \"perc_diff_from_best_global\"]\n",
    "\n",
    "results_per_model = {metric: {model: DefaultDict(list) for model in models} for metric in metrics} \n",
    "for metric in metrics:\n",
    "    for dataset in all_results:\n",
    "        for trial in all_results[dataset]:\n",
    "            num_train = all_results[dataset][trial]['num_train']\n",
    "            for model in all_results[dataset][trial]:\n",
    "                # note: it's not so safe to do this, where we throw away the the num_* and hard-code it later.\n",
    "                if model in ['num_train', 'num_algs', 'num_feats']: continue\n",
    "                for n_train, perf in zip(num_train, all_results[dataset][trial][model]):\n",
    "                    results_per_model[metric][model][n_train].append(perf[metric])\n",
    "\n"
   ]
  },
  {
   "cell_type": "code",
   "execution_count": 94,
   "id": "1ebf7f6a",
   "metadata": {},
   "outputs": [],
   "source": [
    "# multiply all numbers by 100 (we want %s, not fractions)\n",
    "\n",
    "medians = {metric: {} for metric in metrics}\n",
    "means =  {metric: {} for metric in metrics}\n",
    "p1s =  {metric: {} for metric in metrics}\n",
    "p3s =  {metric: {} for metric in metrics}\n",
    "for  metric in metrics:\n",
    "    if metric == \"perc_diff_from_best_global\":\n",
    "        multiply_factor = 100.0\n",
    "    else:\n",
    "        multiply_factor = 1.0\n",
    "    for model in models:\n",
    "        means[metric][model] = []\n",
    "        medians[metric][model] = []\n",
    "        p1s[metric][model] = []\n",
    "        p3s[metric][model] = []\n",
    "        # needs to match the range in the python file\n",
    "        for n_train in range(2, 20, 2):\n",
    "            assert len(results_per_model[metric][model][n_train]) == 19 * num_trials, f\"for model: {model} and  n_train={n_train}, num-results={len(results_per_model[model][n_train])}\"\n",
    "            means[metric][model].append(multiply_factor * np.mean(results_per_model[metric][model][n_train]))\n",
    "            medians[metric][model].append(multiply_factor * np.median(results_per_model[metric][model][n_train]))\n",
    "            p1s[metric][model].append(multiply_factor * np.percentile(results_per_model[metric][model][n_train], 40))\n",
    "            p3s[metric][model].append(multiply_factor * np.percentile(results_per_model[metric][model][n_train], 60))"
   ]
  },
  {
   "cell_type": "code",
   "execution_count": 99,
   "id": "fdf96e99",
   "metadata": {},
   "outputs": [
    {
     "data": {
      "image/png": "[encoded data removed]",
      "text/plain": [
       "<Figure size 288x216 with 1 Axes>"
      ]
     },
     "metadata": {
      "needs_background": "light"
     },
     "output_type": "display_data"
    }
   ],
   "source": [
    "method_dict = {\n",
    "    \"xgboost\": {\n",
    "        \"name\": \"XGB\",\n",
    "        \"kwargs\": {\n",
    "            \"marker\": \"v\",\n",
    "            \"color\": \"blue\",\n",
    "            \"linestyle\": \"--\",\n",
    "        }\n",
    "    },\n",
    "    \"linear\": {\n",
    "        \"name\": \"Linear\",\n",
    "        \"kwargs\": {\n",
    "            \"marker\": \"D\",\n",
    "            \"color\": \"green\",\n",
    "            \"linestyle\": \":\",\n",
    "        }\n",
    "    },    \n",
    "    \"knn\": {\n",
    "        \"name\": \"KNN\",\n",
    "        \"kwargs\": {\n",
    "            \"marker\": \"^\",\n",
    "            \"color\": \"red\",\n",
    "            \"linestyle\": \"-.\",\n",
    "        }\n",
    "    },\n",
    "    \"random\": {\n",
    "        \"name\": \"Random\",\n",
    "        \"kwargs\": {\n",
    "            \"marker\": \"o\",\n",
    "            \"color\": \"gray\",\n",
    "            \"linestyle\": \"-\",\n",
    "        }\n",
    "    }\n",
    "}\n",
    "\n",
    "\n",
    "dodge = np.arange(4,dtype=float)*3\n",
    "dodge -= dodge.mean()\n",
    "\n",
    "\n",
    "\n",
    "#### FIRST -- plot %Diff\n",
    "metric = \"perc_diff_from_best_global\"\n",
    "y_axis_label = \"\\\\texttt{\\\\%Diff}\"\n",
    "# plot with fill between 40-60% of trials\n",
    "\n",
    "# note: when plotting mae, random and linear are very bad\n",
    "\n",
    "x = [i for i in range(2, 20, 2)]\n",
    "\n",
    "fig, ax = plt.subplots(figsize=(4, 3))\n",
    "\n",
    "for i,model in enumerate(models):\n",
    "    # plt.plot(x, medians[model], label=method_dict[model][\"name\"], **method_dict[model][\"kwargs\"])\n",
    "    # plt.fill_between(x, p1s[model], p3s[model], alpha=0.1, color=method_dict[model][\"kwargs\"][\"color\"])\n",
    "    yerr = np.array([(x - small, large - x) for x, small, large in zip(medians[metric][model], p1s[metric][model], p3s[metric][model])]).T\n",
    "    # err_minus = [x - small for m, small in zip(medians[model], p1s[model])]\n",
    "    # plt.errorbar(x, medians[model], yerr=yerr, capsize=4, **method_dict[model][\"kwargs\"])\n",
    "    draw_dodge(ax.errorbar, x, medians[metric][model], yerr=yerr, ax=ax, dodge=dodge[i], capsize=4, markersize=7.5, label=method_dict[model][\"name\"], **method_dict[model][\"kwargs\"])\n",
    "\n",
    "ax.set_xticks(np.arange(2, 19, 2))\n",
    "plt.legend()\n",
    "plt.xlabel('Num. training dataset families')\n",
    "plt.ylabel(y_axis_label)\n",
    "plt.tight_layout()\n",
    "plt.savefig('./plot_files/perf_vs_datasets_plot.pdf', bbox_inches=\"tight\", pad_inches=0)\n",
    "plt.show()\n",
    "\n"
   ]
  },
  {
   "cell_type": "code",
   "execution_count": 100,
   "id": "7a1a188f",
   "metadata": {},
   "outputs": [
    {
     "data": {
      "image/png": "[encoded data removed]",
      "text/plain": [
       "<Figure size 288x216 with 1 Axes>"
      ]
     },
     "metadata": {
      "needs_background": "light"
     },
     "output_type": "display_data"
    }
   ],
   "source": [
    "\n",
    "#### SECOND -- plot MAE\n",
    "metric = \"mae\"\n",
    "y_axis_label = \"MAE\"\n",
    "# plot with fill between 40-60% of trials\n",
    "\n",
    "# note: when plotting mae, random and linear are very bad\n",
    "\n",
    "x = [i for i in range(2, 20, 2)]\n",
    "\n",
    "fig, ax = plt.subplots(figsize=(4, 3))\n",
    "\n",
    "for i,model in enumerate(models):\n",
    "    if model == \"random\": \n",
    "        continue\n",
    "    # plt.plot(x, medians[model], label=method_dict[model][\"name\"], **method_dict[model][\"kwargs\"])\n",
    "    # plt.fill_between(x, p1s[model], p3s[model], alpha=0.1, color=method_dict[model][\"kwargs\"][\"color\"])\n",
    "    yerr = np.array([(x - small, large - x) for x, small, large in zip(medians[metric][model], p1s[metric][model], p3s[metric][model])]).T\n",
    "    # err_minus = [x - small for m, small in zip(medians[model], p1s[model])]\n",
    "    # plt.errorbar(x, medians[model], yerr=yerr, capsize=4, **method_dict[model][\"kwargs\"])\n",
    "    draw_dodge(ax.errorbar, x, medians[metric][model], yerr=yerr, ax=ax, dodge=dodge[i], capsize=4, markersize=7.5, label=method_dict[model][\"name\"], **method_dict[model][\"kwargs\"])\n",
    "\n",
    "ax.set_xticks(np.arange(2, 19, 2))\n",
    "plt.legend()\n",
    "plt.xlabel('Num. training dataset families')\n",
    "plt.ylabel(y_axis_label)\n",
    "plt.tight_layout()\n",
    "plt.savefig('./plot_files/mae_perf_vs_datasets.pdf', bbox_inches=\"tight\", pad_inches=0)\n",
    "plt.show()"
   ]
  },
  {
   "cell_type": "code",
   "execution_count": null,
   "id": "d63e1f25",
   "metadata": {},
   "outputs": [],
   "source": []
  }
 ],
 "metadata": {
  "kernelspec": {
   "display_name": "Python 3",
   "language": "python",
   "name": "python3"
  },
  "language_info": {
   "codemirror_mode": {
    "name": "ipython",
    "version": 3
   },
   "file_extension": ".py",
   "mimetype": "text/x-python",
   "name": "python",
   "nbconvert_exporter": "python",
   "pygments_lexer": "ipython3",
   "version": "3.6.13"
  }
 },
 "nbformat": 4,
 "nbformat_minor": 5
}
