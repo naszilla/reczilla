{
 "cells": [
  {
   "cell_type": "code",
   "execution_count": 1,
   "id": "fb66070d-0a1b-492b-8d09-178260316c53",
   "metadata": {},
   "outputs": [
    {
     "name": "stdout",
     "output_type": "stream",
     "text": [
      "Movielens100K: reload_from_original_data is 'as-needed', will only reload original data if it cannot be found.\n",
      "Movielens100K: Verifying data consistency...\n",
      "Movielens100K: Verifying data consistency... Passed!\n"
     ]
    }
   ],
   "source": [
    "from Data_manager.Movielens.Movielens100KReader import Movielens100KReader\n",
    "\n",
    "# Folder where dataset will be loaded from. The dataset will be downloaded if it's not found here.\n",
    "data_folder = \"/Users/saiprasad/work/Research/Explainable_recos/datasets\"\n",
    "\n",
    "# load the dataset\n",
    "data_reader = Movielens100KReader(folder=data_folder)\n",
    "loaded_dataset = data_reader.load_data()"
   ]
  },
  {
   "cell_type": "code",
   "execution_count": 2,
   "id": "0398da62-3bcf-4188-a6a4-db05c7945fe0",
   "metadata": {},
   "outputs": [
    {
     "name": "stdout",
     "output_type": "stream",
     "text": [
      "Requirement already satisfied: matplotlib in /Users/saiprasad/opt/anaconda3/envs/recsys/lib/python3.9/site-packages (3.5.2)\n",
      "Requirement already satisfied: numpy>=1.17 in /Users/saiprasad/opt/anaconda3/envs/recsys/lib/python3.9/site-packages (from matplotlib) (1.23.1)\n",
      "Requirement already satisfied: cycler>=0.10 in /Users/saiprasad/opt/anaconda3/envs/recsys/lib/python3.9/site-packages (from matplotlib) (0.11.0)\n",
      "Requirement already satisfied: pyparsing>=2.2.1 in /Users/saiprasad/opt/anaconda3/envs/recsys/lib/python3.9/site-packages (from matplotlib) (3.0.9)\n",
      "Requirement already satisfied: python-dateutil>=2.7 in /Users/saiprasad/opt/anaconda3/envs/recsys/lib/python3.9/site-packages (from matplotlib) (2.8.2)\n",
      "Requirement already satisfied: packaging>=20.0 in /Users/saiprasad/opt/anaconda3/envs/recsys/lib/python3.9/site-packages (from matplotlib) (21.3)\n",
      "Requirement already satisfied: fonttools>=4.22.0 in /Users/saiprasad/opt/anaconda3/envs/recsys/lib/python3.9/site-packages (from matplotlib) (4.34.4)\n",
      "Requirement already satisfied: kiwisolver>=1.0.1 in /Users/saiprasad/opt/anaconda3/envs/recsys/lib/python3.9/site-packages (from matplotlib) (1.4.4)\n",
      "Requirement already satisfied: pillow>=6.2.0 in /Users/saiprasad/opt/anaconda3/envs/recsys/lib/python3.9/site-packages (from matplotlib) (9.2.0)\n",
      "Requirement already satisfied: six>=1.5 in /Users/saiprasad/opt/anaconda3/envs/recsys/lib/python3.9/site-packages (from python-dateutil>=2.7->matplotlib) (1.16.0)\n",
      "DataSplitter_global_timestamp: Cold users not allowed\n",
      "DataSplitter_global_timestamp: Verifying data consistency...\n",
      "DataSplitter_global_timestamp: Verifying data consistency... Passed!\n",
      "DataSplitter_global_timestamp: DataReader: Movielens100K\n",
      "\tNum items: 1682\n",
      "\tNum users: 751\n",
      "\tTrain \t\tinteractions 79999, \tdensity 6.33E-02\n",
      "\tValidation \tinteractions 1535, \tdensity 1.22E-03\n",
      "\tTest \t\tinteractions 1418, \tdensity 1.12E-03\n",
      "\n",
      "DataSplitter_global_timestamp: \n",
      "\n",
      "DataSplitter_global_timestamp: Done.\n"
     ]
    }
   ],
   "source": [
    "!pip install matplotlib\n",
    "from Data_manager.DataSplitter_global_timestamp import DataSplitter_global_timestamp\n",
    "\n",
    "# Folder where dataset splits will be written\n",
    "split_folder = \"/Users/saiprasad/work/Research/Explainable_recos/splits/MovieLens100K\"\n",
    "\n",
    "# split the dataset, and write it to file\n",
    "data_splitter = DataSplitter_global_timestamp(data_reader)\n",
    "data_splitter.load_data(save_folder_path=split_folder)"
   ]
  },
  {
   "cell_type": "code",
   "execution_count": 3,
   "id": "974744de-aab5-4466-ad96-8fa1874fb35d",
   "metadata": {},
   "outputs": [],
   "source": [
    "URM_train, URM_validation, URM_test = data_splitter.get_holdout_split()\n",
    "ICM_dict = data_splitter.get_loaded_ICM_dict()"
   ]
  },
  {
   "cell_type": "code",
   "execution_count": 4,
   "id": "3c8a99b3-5d4d-42cc-959c-74f845c9275d",
   "metadata": {},
   "outputs": [
    {
     "data": {
      "text/html": [
       "<div>\n",
       "<style scoped>\n",
       "    .dataframe tbody tr th:only-of-type {\n",
       "        vertical-align: middle;\n",
       "    }\n",
       "\n",
       "    .dataframe tbody tr th {\n",
       "        vertical-align: top;\n",
       "    }\n",
       "\n",
       "    .dataframe thead th {\n",
       "        text-align: right;\n",
       "    }\n",
       "</style>\n",
       "<table border=\"1\" class=\"dataframe\">\n",
       "  <thead>\n",
       "    <tr style=\"text-align: right;\">\n",
       "      <th></th>\n",
       "      <th>item_id</th>\n",
       "      <th>user_id</th>\n",
       "      <th>rating</th>\n",
       "    </tr>\n",
       "  </thead>\n",
       "  <tbody>\n",
       "    <tr>\n",
       "      <th>0</th>\n",
       "      <td>0</td>\n",
       "      <td>0</td>\n",
       "      <td>3.0</td>\n",
       "    </tr>\n",
       "    <tr>\n",
       "      <th>7</th>\n",
       "      <td>0</td>\n",
       "      <td>7</td>\n",
       "      <td>5.0</td>\n",
       "    </tr>\n",
       "    <tr>\n",
       "      <th>8</th>\n",
       "      <td>0</td>\n",
       "      <td>8</td>\n",
       "      <td>4.0</td>\n",
       "    </tr>\n",
       "    <tr>\n",
       "      <th>23</th>\n",
       "      <td>0</td>\n",
       "      <td>23</td>\n",
       "      <td>3.0</td>\n",
       "    </tr>\n",
       "    <tr>\n",
       "      <th>31</th>\n",
       "      <td>0</td>\n",
       "      <td>31</td>\n",
       "      <td>1.0</td>\n",
       "    </tr>\n",
       "  </tbody>\n",
       "</table>\n",
       "</div>"
      ],
      "text/plain": [
       "    item_id  user_id  rating\n",
       "0         0        0     3.0\n",
       "7         0        7     5.0\n",
       "8         0        8     4.0\n",
       "23        0       23     3.0\n",
       "31        0       31     1.0"
      ]
     },
     "execution_count": 4,
     "metadata": {},
     "output_type": "execute_result"
    }
   ],
   "source": [
    "import pandas as pd\n",
    "df = pd.DataFrame.sparse.from_spmatrix(URM_train).unstack().reset_index()\n",
    "df.columns = ['item_id','user_id', 'rating']\n",
    "df = df[df.rating!=0]\n",
    "df.head()"
   ]
  },
  {
   "cell_type": "code",
   "execution_count": 5,
   "id": "f7e71f81-3168-4277-a3a6-6331643a3ea5",
   "metadata": {},
   "outputs": [
    {
     "data": {
      "text/plain": [
       "(79999, 3)"
      ]
     },
     "execution_count": 5,
     "metadata": {},
     "output_type": "execute_result"
    }
   ],
   "source": [
    "df.shape"
   ]
  },
  {
   "cell_type": "code",
   "execution_count": 6,
   "id": "a8a16cc7-aa78-475e-8e57-42119328cfae",
   "metadata": {},
   "outputs": [
    {
     "data": {
      "text/plain": [
       "79999"
      ]
     },
     "execution_count": 6,
     "metadata": {},
     "output_type": "execute_result"
    }
   ],
   "source": [
    "URM_train.count_nonzero()"
   ]
  },
  {
   "cell_type": "code",
   "execution_count": null,
   "id": "48c61094-105e-4791-80de-a50f2ebeda63",
   "metadata": {},
   "outputs": [],
   "source": []
  }
 ],
 "metadata": {
  "kernelspec": {
   "display_name": "Python 3 (ipykernel)",
   "language": "python",
   "name": "python3"
  },
  "language_info": {
   "codemirror_mode": {
    "name": "ipython",
    "version": 3
   },
   "file_extension": ".py",
   "mimetype": "text/x-python",
   "name": "python",
   "nbconvert_exporter": "python",
   "pygments_lexer": "ipython3",
   "version": "3.9.12"
  }
 },
 "nbformat": 4,
 "nbformat_minor": 5
}
