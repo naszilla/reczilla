{
 "cells": [
  {
   "cell_type": "code",
   "execution_count": 1,
   "id": "4da293eb-36ea-4d5e-88c4-14c329fcfad9",
   "metadata": {},
   "outputs": [
    {
     "name": "stderr",
     "output_type": "stream",
     "text": [
      "2022-09-26 09:13:37.658750: I tensorflow/core/platform/cpu_feature_guard.cc:193] This TensorFlow binary is optimized with oneAPI Deep Neural Network Library (oneDNN) to use the following CPU instructions in performance-critical operations:  AVX2 FMA\n",
      "To enable them in other operations, rebuild TensorFlow with the appropriate compiler flags.\n",
      "2022-09-26 09:13:37.841684: E tensorflow/stream_executor/cuda/cuda_blas.cc:2981] Unable to register cuBLAS factory: Attempting to register factory for plugin cuBLAS when one has already been registered\n",
      "2022-09-26 09:13:38.466994: W tensorflow/stream_executor/platform/default/dso_loader.cc:64] Could not load dynamic library 'libnvinfer.so.7'; dlerror: libnvinfer.so.7: cannot open shared object file: No such file or directory; LD_LIBRARY_PATH: /usr/local/cuda/lib64:/usr/local/nccl2/lib:/usr/local/cuda/extras/CUPTI/lib64:/usr/local/cuda/lib64:/usr/local/nccl2/lib:/usr/local/cuda/extras/CUPTI/lib64:/usr/local/cuda/lib64:/usr/local/nccl2/lib:/usr/local/cuda/extras/CUPTI/lib64\n",
      "2022-09-26 09:13:38.467090: W tensorflow/stream_executor/platform/default/dso_loader.cc:64] Could not load dynamic library 'libnvinfer_plugin.so.7'; dlerror: libnvinfer_plugin.so.7: cannot open shared object file: No such file or directory; LD_LIBRARY_PATH: /usr/local/cuda/lib64:/usr/local/nccl2/lib:/usr/local/cuda/extras/CUPTI/lib64:/usr/local/cuda/lib64:/usr/local/nccl2/lib:/usr/local/cuda/extras/CUPTI/lib64:/usr/local/cuda/lib64:/usr/local/nccl2/lib:/usr/local/cuda/extras/CUPTI/lib64\n",
      "2022-09-26 09:13:38.467100: W tensorflow/compiler/tf2tensorrt/utils/py_utils.cc:38] TF-TRT Warning: Cannot dlopen some TensorRT libraries. If you would like to use Nvidia GPU with TensorRT, please make sure the missing libraries mentioned above are installed properly.\n"
     ]
    }
   ],
   "source": [
    "from typing import Dict, List, Tuple, Optional\n",
    "import logging\n",
    "import os\n",
    "import json\n",
    "import numpy as np\n",
    "import pandas as pd\n",
    "\n",
    "import tensorflow as tf\n",
    "from tensorflow.keras import Model, Input\n",
    "from tensorflow.keras import backend as K\n",
    "from tensorflow.keras.optimizers import Adam\n",
    "from tensorflow.keras.layers import (\n",
    "    Activation, Concatenate, Dense, Embedding, Add, GlobalMaxPooling1D, GlobalAveragePooling1D, Dot, StringLookup\n",
    ")\n",
    "\n",
    "from types import SimpleNamespace\n",
    "\n",
    "import tensorflow_datasets as tfds\n",
    "import tensorflow_recommenders as tfrs"
   ]
  },
  {
   "cell_type": "code",
   "execution_count": 2,
   "id": "1578353c-69ad-4533-af59-c8c2ec161f40",
   "metadata": {},
   "outputs": [
    {
     "name": "stderr",
     "output_type": "stream",
     "text": [
      "2022-09-26 09:13:41.366790: I tensorflow/stream_executor/cuda/cuda_gpu_executor.cc:980] successful NUMA node read from SysFS had negative value (-1), but there must be at least one NUMA node, so returning NUMA node zero\n",
      "2022-09-26 09:13:41.373788: W tensorflow/stream_executor/platform/default/dso_loader.cc:64] Could not load dynamic library 'libcusolver.so.11'; dlerror: libcusolver.so.11: cannot open shared object file: No such file or directory; LD_LIBRARY_PATH: /usr/local/cuda/lib64:/usr/local/nccl2/lib:/usr/local/cuda/extras/CUPTI/lib64:/usr/local/cuda/lib64:/usr/local/nccl2/lib:/usr/local/cuda/extras/CUPTI/lib64:/usr/local/cuda/lib64:/usr/local/nccl2/lib:/usr/local/cuda/extras/CUPTI/lib64\n",
      "2022-09-26 09:13:41.374723: W tensorflow/core/common_runtime/gpu/gpu_device.cc:1934] Cannot dlopen some GPU libraries. Please make sure the missing libraries mentioned above are installed properly if you would like to use GPU. Follow the guide at https://www.tensorflow.org/install/gpu for how to download and setup the required libraries for your platform.\n",
      "Skipping registering GPU devices...\n",
      "2022-09-26 09:13:41.375485: I tensorflow/core/platform/cpu_feature_guard.cc:193] This TensorFlow binary is optimized with oneAPI Deep Neural Network Library (oneDNN) to use the following CPU instructions in performance-critical operations:  AVX2 FMA\n",
      "To enable them in other operations, rebuild TensorFlow with the appropriate compiler flags.\n"
     ]
    }
   ],
   "source": [
    "ratings_dataset, ratings_dataset_info = tfds.load(\n",
    "    name='movielens/100k-ratings',\n",
    "    # MovieLens dataset is not splitted into `train` and `test` sets by default.\n",
    "    # So TFDS has put it all into `train` split. We load it completely and split\n",
    "    # it manually.\n",
    "    split='train',\n",
    "    # `with_info=True` makes the `load` function return a `tfds.core.DatasetInfo`\n",
    "    # object containing dataset metadata like version, description, homepage,\n",
    "    # citation, etc.\n",
    "    with_info=True\n",
    ")\n"
   ]
  },
  {
   "cell_type": "code",
   "execution_count": 3,
   "id": "0d192350-eb6a-453f-befd-246d98a46497",
   "metadata": {},
   "outputs": [],
   "source": [
    "training_dataset = tfds.as_dataframe(ratings_dataset)"
   ]
  },
  {
   "cell_type": "code",
   "execution_count": 4,
   "id": "0e4d4437-27bc-4c2b-9046-f6e1815ba183",
   "metadata": {},
   "outputs": [
    {
     "data": {
      "text/html": [
       "<div>\n",
       "<style scoped>\n",
       "    .dataframe tbody tr th:only-of-type {\n",
       "        vertical-align: middle;\n",
       "    }\n",
       "\n",
       "    .dataframe tbody tr th {\n",
       "        vertical-align: top;\n",
       "    }\n",
       "\n",
       "    .dataframe thead th {\n",
       "        text-align: right;\n",
       "    }\n",
       "</style>\n",
       "<table border=\"1\" class=\"dataframe\">\n",
       "  <thead>\n",
       "    <tr style=\"text-align: right;\">\n",
       "      <th></th>\n",
       "      <th>bucketized_user_age</th>\n",
       "      <th>movie_genres</th>\n",
       "      <th>movie_id</th>\n",
       "      <th>movie_title</th>\n",
       "      <th>raw_user_age</th>\n",
       "      <th>timestamp</th>\n",
       "      <th>user_gender</th>\n",
       "      <th>user_id</th>\n",
       "      <th>user_occupation_label</th>\n",
       "      <th>user_occupation_text</th>\n",
       "      <th>user_rating</th>\n",
       "      <th>user_zip_code</th>\n",
       "    </tr>\n",
       "  </thead>\n",
       "  <tbody>\n",
       "    <tr>\n",
       "      <th>0</th>\n",
       "      <td>45.0</td>\n",
       "      <td>[7]</td>\n",
       "      <td>b'357'</td>\n",
       "      <td>b\"One Flew Over the Cuckoo's Nest (1975)\"</td>\n",
       "      <td>46.0</td>\n",
       "      <td>879024327</td>\n",
       "      <td>True</td>\n",
       "      <td>b'138'</td>\n",
       "      <td>4</td>\n",
       "      <td>b'doctor'</td>\n",
       "      <td>4.0</td>\n",
       "      <td>b'53211'</td>\n",
       "    </tr>\n",
       "    <tr>\n",
       "      <th>1</th>\n",
       "      <td>25.0</td>\n",
       "      <td>[4, 14]</td>\n",
       "      <td>b'709'</td>\n",
       "      <td>b'Strictly Ballroom (1992)'</td>\n",
       "      <td>32.0</td>\n",
       "      <td>875654590</td>\n",
       "      <td>True</td>\n",
       "      <td>b'92'</td>\n",
       "      <td>5</td>\n",
       "      <td>b'entertainment'</td>\n",
       "      <td>2.0</td>\n",
       "      <td>b'80525'</td>\n",
       "    </tr>\n",
       "    <tr>\n",
       "      <th>2</th>\n",
       "      <td>18.0</td>\n",
       "      <td>[4]</td>\n",
       "      <td>b'412'</td>\n",
       "      <td>b'Very Brady Sequel, A (1996)'</td>\n",
       "      <td>24.0</td>\n",
       "      <td>882075110</td>\n",
       "      <td>True</td>\n",
       "      <td>b'301'</td>\n",
       "      <td>17</td>\n",
       "      <td>b'student'</td>\n",
       "      <td>4.0</td>\n",
       "      <td>b'55439'</td>\n",
       "    </tr>\n",
       "    <tr>\n",
       "      <th>3</th>\n",
       "      <td>50.0</td>\n",
       "      <td>[5, 7]</td>\n",
       "      <td>b'56'</td>\n",
       "      <td>b'Pulp Fiction (1994)'</td>\n",
       "      <td>50.0</td>\n",
       "      <td>883326919</td>\n",
       "      <td>True</td>\n",
       "      <td>b'60'</td>\n",
       "      <td>4</td>\n",
       "      <td>b'healthcare'</td>\n",
       "      <td>4.0</td>\n",
       "      <td>b'06472'</td>\n",
       "    </tr>\n",
       "    <tr>\n",
       "      <th>4</th>\n",
       "      <td>50.0</td>\n",
       "      <td>[10, 16]</td>\n",
       "      <td>b'895'</td>\n",
       "      <td>b'Scream 2 (1997)'</td>\n",
       "      <td>55.0</td>\n",
       "      <td>891409199</td>\n",
       "      <td>True</td>\n",
       "      <td>b'197'</td>\n",
       "      <td>18</td>\n",
       "      <td>b'technician'</td>\n",
       "      <td>3.0</td>\n",
       "      <td>b'75094'</td>\n",
       "    </tr>\n",
       "  </tbody>\n",
       "</table>\n",
       "</div>"
      ],
      "text/plain": [
       "   bucketized_user_age movie_genres movie_id  \\\n",
       "0                 45.0          [7]   b'357'   \n",
       "1                 25.0      [4, 14]   b'709'   \n",
       "2                 18.0          [4]   b'412'   \n",
       "3                 50.0       [5, 7]    b'56'   \n",
       "4                 50.0     [10, 16]   b'895'   \n",
       "\n",
       "                                 movie_title  raw_user_age  timestamp  \\\n",
       "0  b\"One Flew Over the Cuckoo's Nest (1975)\"          46.0  879024327   \n",
       "1                b'Strictly Ballroom (1992)'          32.0  875654590   \n",
       "2             b'Very Brady Sequel, A (1996)'          24.0  882075110   \n",
       "3                     b'Pulp Fiction (1994)'          50.0  883326919   \n",
       "4                         b'Scream 2 (1997)'          55.0  891409199   \n",
       "\n",
       "   user_gender user_id  user_occupation_label user_occupation_text  \\\n",
       "0         True  b'138'                      4            b'doctor'   \n",
       "1         True   b'92'                      5     b'entertainment'   \n",
       "2         True  b'301'                     17           b'student'   \n",
       "3         True   b'60'                      4        b'healthcare'   \n",
       "4         True  b'197'                     18        b'technician'   \n",
       "\n",
       "   user_rating user_zip_code  \n",
       "0          4.0      b'53211'  \n",
       "1          2.0      b'80525'  \n",
       "2          4.0      b'55439'  \n",
       "3          4.0      b'06472'  \n",
       "4          3.0      b'75094'  "
      ]
     },
     "execution_count": 4,
     "metadata": {},
     "output_type": "execute_result"
    }
   ],
   "source": [
    "training_dataset.head()"
   ]
  },
  {
   "cell_type": "code",
   "execution_count": 5,
   "id": "c3869df8-fcb4-41bc-a603-2c0103abadb5",
   "metadata": {},
   "outputs": [],
   "source": [
    "training_dataset.user_rating.describe()\n",
    "training_dataset['user_rating'] = training_dataset['user_rating']/5.0"
   ]
  },
  {
   "cell_type": "code",
   "execution_count": 6,
   "id": "b32b5684-b9ba-4ed3-b240-9188655f11ec",
   "metadata": {},
   "outputs": [],
   "source": [
    "from tqdm import tqdm\n",
    "tqdm.pandas()"
   ]
  },
  {
   "cell_type": "code",
   "execution_count": 7,
   "id": "e653f771-e89e-42c3-a86f-3e53d3df824a",
   "metadata": {},
   "outputs": [],
   "source": [
    "import pandas as pd\n",
    "training_dataset.sort_values(by='timestamp', inplace=True)\n",
    "history_grouped = training_dataset.groupby('user_id').apply(lambda x:(x.movie_id.values, x.user_rating.values, x.timestamp.values)).reset_index().rename(columns={0:'user_history'})\n",
    "training_dataset = pd.merge(training_dataset, history_grouped, on='user_id', how='left')"
   ]
  },
  {
   "cell_type": "code",
   "execution_count": 8,
   "id": "ca6400ae-07f9-4037-a039-3cb89aada2f5",
   "metadata": {},
   "outputs": [],
   "source": [
    "training_dataset['watch_history'] = training_dataset.apply(lambda x:x['user_history'][0][x['user_history'][2]<x['timestamp']][-10:], axis=1).apply(lambda x: [b'UNK']*(10-len(x)) + list(x.astype(str)) if len(x)<10 else list(x.astype(str)))\n",
    "training_dataset['rating_history'] = training_dataset.apply(lambda x:x['user_history'][1][x['user_history'][2]<x['timestamp']][-10:], axis=1).apply(lambda x: [b'UNK']*(10-len(x)) + list(x) if len(x)<10 else list(x))"
   ]
  },
  {
   "cell_type": "code",
   "execution_count": 9,
   "id": "99c61f75-28f8-4316-ac46-b005122750e1",
   "metadata": {},
   "outputs": [],
   "source": [
    "training_dataset['movie_genres'] = training_dataset['movie_genres'].apply(lambda x: ['-1']*(6-len(x)) + list(x.astype(str)) if len(x)<6 else list(x.astype(str)))"
   ]
  },
  {
   "cell_type": "code",
   "execution_count": 10,
   "id": "6b0f4394-23f0-4281-aa05-7ef14e8319bc",
   "metadata": {},
   "outputs": [],
   "source": [
    "training_dataset['bucketized_user_age'] = training_dataset['bucketized_user_age']/training_dataset['bucketized_user_age'].max()\n",
    "training_dataset['raw_user_age'] = training_dataset['raw_user_age']/training_dataset['raw_user_age'].max()\n",
    "training_dataset['user_gender'] = training_dataset['user_gender'].astype(int)\n",
    "training_dataset['user_occupation_label'] = training_dataset['user_occupation_label'].astype(str)"
   ]
  },
  {
   "cell_type": "code",
   "execution_count": 11,
   "id": "05feed1a-133f-4f55-85e8-01865c2a41e9",
   "metadata": {},
   "outputs": [],
   "source": [
    "unique_user_ids = list(training_dataset['user_id'].unique()) + ['UNK']\n",
    "unique_movie_ids = list(training_dataset['movie_id'].unique()) + ['UNK']\n",
    "unique_genres = training_dataset['movie_genres'].explode().astype(str).unique()\n",
    "unique_profession = training_dataset['user_occupation_label'].astype(str).unique()\n",
    "\n",
    "\n",
    "embedding_dimension = 256\n",
    "embedding_dimension_genre = 4\n",
    "\n",
    "shared_user_embedding_layer = tf.keras.layers.Embedding(len(unique_user_ids) + 1, embedding_dimension)\n",
    "shared_user_lookup_layer = tf.keras.layers.StringLookup(vocabulary=unique_user_ids, mask_token=None)\n",
    "\n",
    "shared_movie_embedding_layer = tf.keras.layers.Embedding(len(unique_movie_ids) + 1, embedding_dimension)\n",
    "shared_movie_lookup_layer = tf.keras.layers.StringLookup(vocabulary=unique_movie_ids, mask_token=None)\n",
    "\n",
    "genre_embedding_layer = tf.keras.layers.Embedding(len(unique_genres) + 1, embedding_dimension_genre)\n",
    "genre_lookup_layer = tf.keras.layers.StringLookup(vocabulary=unique_genres, mask_token=None)\n",
    "\n",
    "profession_embedding_layer = tf.keras.layers.Embedding(len(unique_profession) + 1, embedding_dimension_genre)\n",
    "profession_lookup_layer = tf.keras.layers.StringLookup(vocabulary=unique_profession, mask_token=None)"
   ]
  },
  {
   "cell_type": "code",
   "execution_count": 12,
   "id": "1e48fdce-2c6b-4a6a-b396-a752bf98f0e1",
   "metadata": {},
   "outputs": [
    {
     "data": {
      "text/html": [
       "<div>\n",
       "<style scoped>\n",
       "    .dataframe tbody tr th:only-of-type {\n",
       "        vertical-align: middle;\n",
       "    }\n",
       "\n",
       "    .dataframe tbody tr th {\n",
       "        vertical-align: top;\n",
       "    }\n",
       "\n",
       "    .dataframe thead th {\n",
       "        text-align: right;\n",
       "    }\n",
       "</style>\n",
       "<table border=\"1\" class=\"dataframe\">\n",
       "  <thead>\n",
       "    <tr style=\"text-align: right;\">\n",
       "      <th></th>\n",
       "      <th>bucketized_user_age</th>\n",
       "      <th>movie_genres</th>\n",
       "      <th>movie_id</th>\n",
       "      <th>movie_title</th>\n",
       "      <th>raw_user_age</th>\n",
       "      <th>timestamp</th>\n",
       "      <th>user_gender</th>\n",
       "      <th>user_id</th>\n",
       "      <th>user_occupation_label</th>\n",
       "      <th>user_occupation_text</th>\n",
       "      <th>user_rating</th>\n",
       "      <th>user_zip_code</th>\n",
       "      <th>user_history</th>\n",
       "      <th>watch_history</th>\n",
       "      <th>rating_history</th>\n",
       "    </tr>\n",
       "  </thead>\n",
       "  <tbody>\n",
       "    <tr>\n",
       "      <th>0</th>\n",
       "      <td>0.321429</td>\n",
       "      <td>[-1, -1, -1, -1, 4, 14]</td>\n",
       "      <td>b'255'</td>\n",
       "      <td>b\"My Best Friend's Wedding (1997)\"</td>\n",
       "      <td>0.287671</td>\n",
       "      <td>874724710</td>\n",
       "      <td>1</td>\n",
       "      <td>b'259'</td>\n",
       "      <td>17</td>\n",
       "      <td>b'student'</td>\n",
       "      <td>0.8</td>\n",
       "      <td>b'48823'</td>\n",
       "      <td>([b'255', b'286', b'298', b'185', b'173', b'10...</td>\n",
       "      <td>[b'UNK', b'UNK', b'UNK', b'UNK', b'UNK', b'UNK...</td>\n",
       "      <td>[b'UNK', b'UNK', b'UNK', b'UNK', b'UNK', b'UNK...</td>\n",
       "    </tr>\n",
       "    <tr>\n",
       "      <th>1</th>\n",
       "      <td>0.321429</td>\n",
       "      <td>[-1, -1, -1, 7, 14, 18]</td>\n",
       "      <td>b'286'</td>\n",
       "      <td>b'English Patient, The (1996)'</td>\n",
       "      <td>0.287671</td>\n",
       "      <td>874724727</td>\n",
       "      <td>1</td>\n",
       "      <td>b'259'</td>\n",
       "      <td>17</td>\n",
       "      <td>b'student'</td>\n",
       "      <td>0.8</td>\n",
       "      <td>b'48823'</td>\n",
       "      <td>([b'255', b'286', b'298', b'185', b'173', b'10...</td>\n",
       "      <td>[b'UNK', b'UNK', b'UNK', b'UNK', b'UNK', b'UNK...</td>\n",
       "      <td>[b'UNK', b'UNK', b'UNK', b'UNK', b'UNK', b'UNK...</td>\n",
       "    </tr>\n",
       "    <tr>\n",
       "      <th>2</th>\n",
       "      <td>0.321429</td>\n",
       "      <td>[-1, -1, -1, 0, 15, 16]</td>\n",
       "      <td>b'298'</td>\n",
       "      <td>b'Face/Off (1997)'</td>\n",
       "      <td>0.287671</td>\n",
       "      <td>874724754</td>\n",
       "      <td>1</td>\n",
       "      <td>b'259'</td>\n",
       "      <td>17</td>\n",
       "      <td>b'student'</td>\n",
       "      <td>0.8</td>\n",
       "      <td>b'48823'</td>\n",
       "      <td>([b'255', b'286', b'298', b'185', b'173', b'10...</td>\n",
       "      <td>[b'UNK', b'UNK', b'UNK', b'UNK', b'UNK', b'UNK...</td>\n",
       "      <td>[b'UNK', b'UNK', b'UNK', b'UNK', b'UNK', b'UNK...</td>\n",
       "    </tr>\n",
       "    <tr>\n",
       "      <th>3</th>\n",
       "      <td>0.321429</td>\n",
       "      <td>[-1, -1, -1, 10, 14, 16]</td>\n",
       "      <td>b'185'</td>\n",
       "      <td>b'Psycho (1960)'</td>\n",
       "      <td>0.287671</td>\n",
       "      <td>874724781</td>\n",
       "      <td>1</td>\n",
       "      <td>b'259'</td>\n",
       "      <td>17</td>\n",
       "      <td>b'student'</td>\n",
       "      <td>0.8</td>\n",
       "      <td>b'48823'</td>\n",
       "      <td>([b'255', b'286', b'298', b'185', b'173', b'10...</td>\n",
       "      <td>[b'UNK', b'UNK', b'UNK', b'UNK', b'UNK', b'UNK...</td>\n",
       "      <td>[b'UNK', b'UNK', b'UNK', b'UNK', b'UNK', b'UNK...</td>\n",
       "    </tr>\n",
       "    <tr>\n",
       "      <th>4</th>\n",
       "      <td>0.321429</td>\n",
       "      <td>[-1, -1, 0, 1, 4, 14]</td>\n",
       "      <td>b'173'</td>\n",
       "      <td>b'Princess Bride, The (1987)'</td>\n",
       "      <td>0.287671</td>\n",
       "      <td>874724843</td>\n",
       "      <td>1</td>\n",
       "      <td>b'259'</td>\n",
       "      <td>17</td>\n",
       "      <td>b'student'</td>\n",
       "      <td>0.8</td>\n",
       "      <td>b'48823'</td>\n",
       "      <td>([b'255', b'286', b'298', b'185', b'173', b'10...</td>\n",
       "      <td>[b'UNK', b'UNK', b'UNK', b'UNK', b'UNK', b'UNK...</td>\n",
       "      <td>[b'UNK', b'UNK', b'UNK', b'UNK', b'UNK', b'UNK...</td>\n",
       "    </tr>\n",
       "  </tbody>\n",
       "</table>\n",
       "</div>"
      ],
      "text/plain": [
       "   bucketized_user_age              movie_genres movie_id  \\\n",
       "0             0.321429   [-1, -1, -1, -1, 4, 14]   b'255'   \n",
       "1             0.321429   [-1, -1, -1, 7, 14, 18]   b'286'   \n",
       "2             0.321429   [-1, -1, -1, 0, 15, 16]   b'298'   \n",
       "3             0.321429  [-1, -1, -1, 10, 14, 16]   b'185'   \n",
       "4             0.321429     [-1, -1, 0, 1, 4, 14]   b'173'   \n",
       "\n",
       "                          movie_title  raw_user_age  timestamp  user_gender  \\\n",
       "0  b\"My Best Friend's Wedding (1997)\"      0.287671  874724710            1   \n",
       "1      b'English Patient, The (1996)'      0.287671  874724727            1   \n",
       "2                  b'Face/Off (1997)'      0.287671  874724754            1   \n",
       "3                    b'Psycho (1960)'      0.287671  874724781            1   \n",
       "4       b'Princess Bride, The (1987)'      0.287671  874724843            1   \n",
       "\n",
       "  user_id user_occupation_label user_occupation_text  user_rating  \\\n",
       "0  b'259'                    17           b'student'          0.8   \n",
       "1  b'259'                    17           b'student'          0.8   \n",
       "2  b'259'                    17           b'student'          0.8   \n",
       "3  b'259'                    17           b'student'          0.8   \n",
       "4  b'259'                    17           b'student'          0.8   \n",
       "\n",
       "  user_zip_code                                       user_history  \\\n",
       "0      b'48823'  ([b'255', b'286', b'298', b'185', b'173', b'10...   \n",
       "1      b'48823'  ([b'255', b'286', b'298', b'185', b'173', b'10...   \n",
       "2      b'48823'  ([b'255', b'286', b'298', b'185', b'173', b'10...   \n",
       "3      b'48823'  ([b'255', b'286', b'298', b'185', b'173', b'10...   \n",
       "4      b'48823'  ([b'255', b'286', b'298', b'185', b'173', b'10...   \n",
       "\n",
       "                                       watch_history  \\\n",
       "0  [b'UNK', b'UNK', b'UNK', b'UNK', b'UNK', b'UNK...   \n",
       "1  [b'UNK', b'UNK', b'UNK', b'UNK', b'UNK', b'UNK...   \n",
       "2  [b'UNK', b'UNK', b'UNK', b'UNK', b'UNK', b'UNK...   \n",
       "3  [b'UNK', b'UNK', b'UNK', b'UNK', b'UNK', b'UNK...   \n",
       "4  [b'UNK', b'UNK', b'UNK', b'UNK', b'UNK', b'UNK...   \n",
       "\n",
       "                                      rating_history  \n",
       "0  [b'UNK', b'UNK', b'UNK', b'UNK', b'UNK', b'UNK...  \n",
       "1  [b'UNK', b'UNK', b'UNK', b'UNK', b'UNK', b'UNK...  \n",
       "2  [b'UNK', b'UNK', b'UNK', b'UNK', b'UNK', b'UNK...  \n",
       "3  [b'UNK', b'UNK', b'UNK', b'UNK', b'UNK', b'UNK...  \n",
       "4  [b'UNK', b'UNK', b'UNK', b'UNK', b'UNK', b'UNK...  "
      ]
     },
     "execution_count": 12,
     "metadata": {},
     "output_type": "execute_result"
    }
   ],
   "source": [
    "training_dataset.head()"
   ]
  },
  {
   "cell_type": "code",
   "execution_count": 13,
   "id": "86fadad7-4bd5-4b72-89b8-c3d230125ce9",
   "metadata": {},
   "outputs": [
    {
     "name": "stdout",
     "output_type": "stream",
     "text": [
      "bucketized_user_age\n",
      "movie_id\n",
      "raw_user_age\n",
      "user_gender\n",
      "user_id\n",
      "user_occupation_label\n",
      "movie_genres\n",
      "watch_history\n"
     ]
    }
   ],
   "source": [
    "input_columns = ['bucketized_user_age','movie_id','raw_user_age','user_gender','user_id','user_occupation_label','movie_genres','watch_history']\n",
    "col_tf_transforms = [tf.constant]*len(input_columns)\n",
    "tensor_features = {}\n",
    "\n",
    "training_dataset = training_dataset.to_dict('list')\n",
    "\n",
    "for col, transform in zip(input_columns, col_tf_transforms):\n",
    "    print(col)\n",
    "    tensor = transform(training_dataset[col])\n",
    "    tensor_features[col] = tensor"
   ]
  },
  {
   "cell_type": "code",
   "execution_count": 14,
   "id": "90f9aa94-0603-4da5-b402-2571b3752464",
   "metadata": {},
   "outputs": [],
   "source": [
    "import datetime\n",
    "tb_logs_dir = 'logs/tensorboard_logs/'\n",
    "# # Clear any logs from previous runs\n",
    "# %rm -rf $tb_logs_dir\n",
    "\n",
    "log_dir = f\"{tb_logs_dir}/fit/\" + datetime.datetime.now().strftime(\"%Y%m%d-%H%M%S\")\n",
    "tensorboard_callback = tf.keras.callbacks.TensorBoard(log_dir=log_dir, histogram_freq=1)"
   ]
  },
  {
   "cell_type": "code",
   "execution_count": 15,
   "id": "b246e57d-004a-4789-b674-462b65407c3b",
   "metadata": {},
   "outputs": [],
   "source": [
    "def get_user_model():\n",
    "    input_user_id = tf.keras.Input(shape=(1,), dtype='string')\n",
    "    input_user_id = tf.reshape(input_user_id, [-1])\n",
    "    user_ids_embed = shared_user_lookup_layer(input_user_id)\n",
    "    user_ids_embed = shared_user_embedding_layer(user_ids_embed)\n",
    "    \n",
    "    input_history = tf.keras.Input(shape=(10,), dtype='string')\n",
    "    history_embed = shared_movie_lookup_layer(input_history)\n",
    "    history_embed = shared_movie_embedding_layer(history_embed)\n",
    "    history_flatten = tf.keras.layers.LSTM(embedding_dimension)(history_embed)\n",
    "    \n",
    "    input_profession = tf.keras.Input(shape=(1,), dtype='string')\n",
    "    input_profession = tf.reshape(input_profession, [-1])\n",
    "    profession_embed = profession_lookup_layer(input_profession)\n",
    "    profession_embed = profession_embedding_layer(profession_embed)\n",
    "    \n",
    "    input_gender = tf.keras.Input(shape=(1,), dtype='float')\n",
    "    input_raw = tf.keras.Input(shape=(1,), dtype='float')\n",
    "    input_bucketized = tf.keras.Input(shape=(1,), dtype='float')\n",
    "    \n",
    "    combined_user_embed = tf.concat([user_ids_embed, history_flatten, profession_embed, input_gender, input_raw, input_bucketized], axis=-1)\n",
    "    outputs = tf.keras.layers.Dense(embedding_dimension)(combined_user_embed)\n",
    "    return tf.keras.Model(inputs=[input_user_id, input_history, input_profession, input_gender, input_raw, input_bucketized], outputs=[outputs, user_ids_embed, history_embed, profession_embed])"
   ]
  },
  {
   "cell_type": "code",
   "execution_count": 16,
   "id": "5476dd46-f642-4e73-be45-47b0a86c1410",
   "metadata": {},
   "outputs": [],
   "source": [
    "def get_movie_model():\n",
    "    input_movie_ids = tf.keras.Input(shape=(1, ), dtype='string')\n",
    "    input_movie_ids = tf.reshape(input_movie_ids, [-1])\n",
    "    movie_ids_embed = shared_movie_lookup_layer(input_movie_ids)\n",
    "    movie_ids_embed = shared_movie_embedding_layer(movie_ids_embed)\n",
    "    \n",
    "    input_genres = tf.keras.Input(shape=(6,), dtype='string')\n",
    "    genre_embed = genre_lookup_layer(input_genres)\n",
    "    genre_embed = genre_embedding_layer(genre_embed)\n",
    "    genre_flattened = tf.keras.layers.GlobalAveragePooling1D()(genre_embed)\n",
    "    \n",
    "    \n",
    "    \n",
    "    combined_movie_embed = tf.concat([movie_ids_embed, genre_flattened], axis=-1)\n",
    "#     combined_product_embed = tf.expand_dims(combined_product_embed, axis=-1)\n",
    "    outputs = tf.keras.layers.Dense(embedding_dimension)(combined_movie_embed)\n",
    "\n",
    "    return tf.keras.Model(inputs=[input_movie_ids, input_genres], outputs=[outputs, movie_ids_embed, genre_embed])"
   ]
  },
  {
   "cell_type": "code",
   "execution_count": 17,
   "id": "34d0893e-efd0-4ae7-b0d2-2fa4c667def9",
   "metadata": {},
   "outputs": [],
   "source": [
    "train_ds = tf.data.Dataset.from_tensor_slices(tensor_features)\n",
    "\n",
    "movie_df = pd.DataFrame(training_dataset)[['movie_id','movie_title']].drop_duplicates()\n",
    "for col, transform in zip(input_columns, col_tf_transforms):\n",
    "    if col in [['movie_id','movie_title']]:\n",
    "        tensor = transform(test_df[col])\n",
    "        tensor_features[col] = tensor\n",
    "movie_ds = tf.data.Dataset.from_tensor_slices(tensor_features)"
   ]
  },
  {
   "cell_type": "code",
   "execution_count": 18,
   "id": "851088e1-40c5-44b1-acc6-b087a54d4e20",
   "metadata": {},
   "outputs": [],
   "source": [
    "class CandidateModel(tf.keras.Model):\n",
    "    def __init__(self, movie_embedding):\n",
    "        super().__init__()\n",
    "        self._movie_embedding = movie_embedding\n",
    "        # self._user_embedding = get_user_model()\n",
    "        # self.retrieval_task_layer = tfrs.tasks.Retrieval(metrics=factorized_top_k_metrics)\n",
    "\n",
    "    def call(self, inputs):\n",
    "        \n",
    "        # Take the input dictionary, pass it through each input layer,\n",
    "        # and concatenate the result.\n",
    "        movie_id = inputs['movie_id']\n",
    "        genre = inputs['movie_genres']\n",
    "        \n",
    "        self.movie_output = self._movie_embedding([movie_id, genre])\n",
    "\n",
    "\n",
    "        return self.movie_output[0]\n",
    "\n",
    "class UserModel(tf.keras.Model):\n",
    "    def __init__(self, user_embedding):\n",
    "        super().__init__()\n",
    "        self._user_embedding = user_embedding\n",
    "        # self._user_embedding = get_user_model()\n",
    "        # self.retrieval_task_layer = tfrs.tasks.Retrieval(metrics=factorized_top_k_metrics)\n",
    "\n",
    "    def call(self, inputs):\n",
    "        \n",
    "        # Take the input dictionary, pass it through each input layer,\n",
    "        # and concatenate the result.\n",
    "        watch_history = inputs[\"watch_history\"]\n",
    "        user_id = inputs['user_id']\n",
    "        #movie_id = inputs['movie_id']\n",
    "        bucket_age = inputs['bucketized_user_age']\n",
    "        raw_age = inputs['raw_user_age']\n",
    "        profession = inputs['user_occupation_label']\n",
    "        gender = inputs['user_gender']\n",
    "        #genre = inputs['movie_genres']\n",
    "        \n",
    "        self.user_output = self._user_embedding([user_id, watch_history, profession, gender, raw_age, bucket_age])\n",
    "\n",
    "\n",
    "        return self.user_output[0]"
   ]
  },
  {
   "cell_type": "code",
   "execution_count": 19,
   "id": "d89081b7-3dfb-4d3e-beb6-331e5e16b7b5",
   "metadata": {},
   "outputs": [],
   "source": [
    "class QueryModel(tf.keras.Model):\n",
    "    def __init__(self):\n",
    "        super().__init__()\n",
    "        self._movie_embedding = get_movie_model()\n",
    "        self._user_embedding = get_user_model()\n",
    "        self.candidate_model = CandidateModel(self._movie_embedding)\n",
    "        self.user_model = UserModel(self._user_embedding)\n",
    "        self.factorized_top_k_metrics = tfrs.metrics.FactorizedTopK(candidates=movie_ds.batch(128).map(self.candidate_model))\n",
    "        self.retrieval_task_layer = tfrs.tasks.Retrieval(metrics=self.factorized_top_k_metrics)\n",
    "    \n",
    "\n",
    "    def call(self, inputs):\n",
    "        \n",
    "        # Take the input dictionary, pass it through each input layer,\n",
    "        # and concatenate the result.\n",
    "        watch_history = inputs[\"watch_history\"]\n",
    "        user_id = inputs['user_id']\n",
    "        movie_id = inputs['movie_id']\n",
    "        bucket_age = inputs['bucketized_user_age']\n",
    "        raw_age = inputs['raw_user_age']\n",
    "        profession = inputs['user_occupation_label']\n",
    "        gender = inputs['user_gender']\n",
    "        genre = inputs['movie_genres']\n",
    "\n",
    "        self.movie_output = self._movie_embedding([movie_id, genre])\n",
    "        self.user_output = self._user_embedding([user_id, watch_history, profession, gender, raw_age, bucket_age])\n",
    "        self.loss = self.retrieval_task_layer(\n",
    "                            self.user_output[0],\n",
    "                            self.movie_output[0]\n",
    "                            ,compute_metrics=False  # To speed up training\n",
    "                            )\n",
    "\n",
    "        return self.loss, self.movie_output, self.user_output"
   ]
  },
  {
   "cell_type": "code",
   "execution_count": 20,
   "id": "05f34c47-ce88-4ea2-9a80-237be6ebfe7e",
   "metadata": {},
   "outputs": [],
   "source": [
    "query_model = QueryModel()\n",
    "\n",
    "\n",
    "class Model(tfrs.Model):\n",
    "\n",
    "    def __init__(self, query_model):\n",
    "        super().__init__()\n",
    "        self._query_model = query_model\n",
    "        #self._candidate_model = candidate_model\n",
    "        #self._task = task\n",
    "    \n",
    "\n",
    "    def compute_loss(self, features, training=False):\n",
    "\n",
    "        loss, _, user_output = self._query_model(features)\n",
    "        self.user_embeddings = user_output[0]\n",
    "        #candidate_embedding = self._candidate_model(next_interaction)\n",
    "        \n",
    "        # latent cross\n",
    "        # query_embedding += query_embedding * search_embedding\n",
    "        \n",
    "        return loss"
   ]
  },
  {
   "cell_type": "code",
   "execution_count": 21,
   "id": "c7d1bd45-2ae3-4159-8b4e-364f592ab5c8",
   "metadata": {},
   "outputs": [],
   "source": [
    "model = Model(query_model)\n",
    "model.compile(optimizer=tf.keras.optimizers.Adam(learning_rate=0.001))"
   ]
  },
  {
   "cell_type": "code",
   "execution_count": 22,
   "id": "7eb0bc24-ae37-45e0-9150-9c4ea37dad12",
   "metadata": {},
   "outputs": [],
   "source": [
    "batch_size = 512\n",
    "cached_train = train_ds.batch(batch_size).cache().prefetch(tf.data.AUTOTUNE)"
   ]
  },
  {
   "cell_type": "code",
   "execution_count": 23,
   "id": "4d965496-adb5-4b73-b531-47c4ea956c27",
   "metadata": {},
   "outputs": [
    {
     "name": "stdout",
     "output_type": "stream",
     "text": [
      "Epoch 1/50\n",
      "196/196 [==============================] - 37s 174ms/step - factorized_top_k/top_1_categorical_accuracy: 0.0000e+00 - factorized_top_k/top_5_categorical_accuracy: 0.0000e+00 - factorized_top_k/top_10_categorical_accuracy: 0.0000e+00 - factorized_top_k/top_50_categorical_accuracy: 0.0000e+00 - factorized_top_k/top_100_categorical_accuracy: 0.0000e+00 - loss: 2984.1011 - regularization_loss: 0.0000e+00 - total_loss: 2984.1011\n",
      "Epoch 2/50\n",
      "196/196 [==============================] - 33s 169ms/step - factorized_top_k/top_1_categorical_accuracy: 0.0000e+00 - factorized_top_k/top_5_categorical_accuracy: 0.0000e+00 - factorized_top_k/top_10_categorical_accuracy: 0.0000e+00 - factorized_top_k/top_50_categorical_accuracy: 0.0000e+00 - factorized_top_k/top_100_categorical_accuracy: 0.0000e+00 - loss: 2821.8200 - regularization_loss: 0.0000e+00 - total_loss: 2821.8200\n",
      "Epoch 3/50\n",
      "196/196 [==============================] - 34s 173ms/step - factorized_top_k/top_1_categorical_accuracy: 0.0000e+00 - factorized_top_k/top_5_categorical_accuracy: 0.0000e+00 - factorized_top_k/top_10_categorical_accuracy: 0.0000e+00 - factorized_top_k/top_50_categorical_accuracy: 0.0000e+00 - factorized_top_k/top_100_categorical_accuracy: 0.0000e+00 - loss: 2771.6542 - regularization_loss: 0.0000e+00 - total_loss: 2771.6542\n",
      "Epoch 4/50\n",
      "196/196 [==============================] - 34s 173ms/step - factorized_top_k/top_1_categorical_accuracy: 0.0000e+00 - factorized_top_k/top_5_categorical_accuracy: 0.0000e+00 - factorized_top_k/top_10_categorical_accuracy: 0.0000e+00 - factorized_top_k/top_50_categorical_accuracy: 0.0000e+00 - factorized_top_k/top_100_categorical_accuracy: 0.0000e+00 - loss: 2733.7318 - regularization_loss: 0.0000e+00 - total_loss: 2733.7318\n",
      "Epoch 5/50\n",
      "196/196 [==============================] - 33s 169ms/step - factorized_top_k/top_1_categorical_accuracy: 0.0000e+00 - factorized_top_k/top_5_categorical_accuracy: 0.0000e+00 - factorized_top_k/top_10_categorical_accuracy: 0.0000e+00 - factorized_top_k/top_50_categorical_accuracy: 0.0000e+00 - factorized_top_k/top_100_categorical_accuracy: 0.0000e+00 - loss: 2699.4547 - regularization_loss: 0.0000e+00 - total_loss: 2699.4547\n",
      "Epoch 6/50\n",
      "196/196 [==============================] - 34s 173ms/step - factorized_top_k/top_1_categorical_accuracy: 0.0000e+00 - factorized_top_k/top_5_categorical_accuracy: 0.0000e+00 - factorized_top_k/top_10_categorical_accuracy: 0.0000e+00 - factorized_top_k/top_50_categorical_accuracy: 0.0000e+00 - factorized_top_k/top_100_categorical_accuracy: 0.0000e+00 - loss: 2668.5840 - regularization_loss: 0.0000e+00 - total_loss: 2668.5840\n",
      "Epoch 7/50\n",
      "196/196 [==============================] - 33s 169ms/step - factorized_top_k/top_1_categorical_accuracy: 0.0000e+00 - factorized_top_k/top_5_categorical_accuracy: 0.0000e+00 - factorized_top_k/top_10_categorical_accuracy: 0.0000e+00 - factorized_top_k/top_50_categorical_accuracy: 0.0000e+00 - factorized_top_k/top_100_categorical_accuracy: 0.0000e+00 - loss: 2634.4382 - regularization_loss: 0.0000e+00 - total_loss: 2634.4382\n",
      "Epoch 8/50\n",
      "196/196 [==============================] - 34s 171ms/step - factorized_top_k/top_1_categorical_accuracy: 0.0000e+00 - factorized_top_k/top_5_categorical_accuracy: 0.0000e+00 - factorized_top_k/top_10_categorical_accuracy: 0.0000e+00 - factorized_top_k/top_50_categorical_accuracy: 0.0000e+00 - factorized_top_k/top_100_categorical_accuracy: 0.0000e+00 - loss: 2597.3514 - regularization_loss: 0.0000e+00 - total_loss: 2597.3514\n",
      "Epoch 9/50\n",
      "196/196 [==============================] - 33s 170ms/step - factorized_top_k/top_1_categorical_accuracy: 0.0000e+00 - factorized_top_k/top_5_categorical_accuracy: 0.0000e+00 - factorized_top_k/top_10_categorical_accuracy: 0.0000e+00 - factorized_top_k/top_50_categorical_accuracy: 0.0000e+00 - factorized_top_k/top_100_categorical_accuracy: 0.0000e+00 - loss: 2555.6269 - regularization_loss: 0.0000e+00 - total_loss: 2555.6269\n",
      "Epoch 10/50\n",
      "196/196 [==============================] - 34s 173ms/step - factorized_top_k/top_1_categorical_accuracy: 0.0000e+00 - factorized_top_k/top_5_categorical_accuracy: 0.0000e+00 - factorized_top_k/top_10_categorical_accuracy: 0.0000e+00 - factorized_top_k/top_50_categorical_accuracy: 0.0000e+00 - factorized_top_k/top_100_categorical_accuracy: 0.0000e+00 - loss: 2508.1814 - regularization_loss: 0.0000e+00 - total_loss: 2508.1814\n",
      "Epoch 11/50\n",
      "196/196 [==============================] - 33s 170ms/step - factorized_top_k/top_1_categorical_accuracy: 0.0000e+00 - factorized_top_k/top_5_categorical_accuracy: 0.0000e+00 - factorized_top_k/top_10_categorical_accuracy: 0.0000e+00 - factorized_top_k/top_50_categorical_accuracy: 0.0000e+00 - factorized_top_k/top_100_categorical_accuracy: 0.0000e+00 - loss: 2457.7382 - regularization_loss: 0.0000e+00 - total_loss: 2457.7382\n",
      "Epoch 12/50\n",
      "196/196 [==============================] - 34s 171ms/step - factorized_top_k/top_1_categorical_accuracy: 0.0000e+00 - factorized_top_k/top_5_categorical_accuracy: 0.0000e+00 - factorized_top_k/top_10_categorical_accuracy: 0.0000e+00 - factorized_top_k/top_50_categorical_accuracy: 0.0000e+00 - factorized_top_k/top_100_categorical_accuracy: 0.0000e+00 - loss: 2404.8870 - regularization_loss: 0.0000e+00 - total_loss: 2404.8870\n",
      "Epoch 13/50\n",
      "196/196 [==============================] - 34s 173ms/step - factorized_top_k/top_1_categorical_accuracy: 0.0000e+00 - factorized_top_k/top_5_categorical_accuracy: 0.0000e+00 - factorized_top_k/top_10_categorical_accuracy: 0.0000e+00 - factorized_top_k/top_50_categorical_accuracy: 0.0000e+00 - factorized_top_k/top_100_categorical_accuracy: 0.0000e+00 - loss: 2348.9126 - regularization_loss: 0.0000e+00 - total_loss: 2348.9126\n",
      "Epoch 14/50\n",
      "196/196 [==============================] - 33s 169ms/step - factorized_top_k/top_1_categorical_accuracy: 0.0000e+00 - factorized_top_k/top_5_categorical_accuracy: 0.0000e+00 - factorized_top_k/top_10_categorical_accuracy: 0.0000e+00 - factorized_top_k/top_50_categorical_accuracy: 0.0000e+00 - factorized_top_k/top_100_categorical_accuracy: 0.0000e+00 - loss: 2290.5990 - regularization_loss: 0.0000e+00 - total_loss: 2290.5990\n",
      "Epoch 15/50\n",
      "196/196 [==============================] - 34s 171ms/step - factorized_top_k/top_1_categorical_accuracy: 0.0000e+00 - factorized_top_k/top_5_categorical_accuracy: 0.0000e+00 - factorized_top_k/top_10_categorical_accuracy: 0.0000e+00 - factorized_top_k/top_50_categorical_accuracy: 0.0000e+00 - factorized_top_k/top_100_categorical_accuracy: 0.0000e+00 - loss: 2230.1028 - regularization_loss: 0.0000e+00 - total_loss: 2230.1028\n",
      "Epoch 16/50\n",
      "196/196 [==============================] - 33s 169ms/step - factorized_top_k/top_1_categorical_accuracy: 0.0000e+00 - factorized_top_k/top_5_categorical_accuracy: 0.0000e+00 - factorized_top_k/top_10_categorical_accuracy: 0.0000e+00 - factorized_top_k/top_50_categorical_accuracy: 0.0000e+00 - factorized_top_k/top_100_categorical_accuracy: 0.0000e+00 - loss: 2168.2148 - regularization_loss: 0.0000e+00 - total_loss: 2168.2148\n",
      "Epoch 17/50\n",
      "196/196 [==============================] - 34s 172ms/step - factorized_top_k/top_1_categorical_accuracy: 0.0000e+00 - factorized_top_k/top_5_categorical_accuracy: 0.0000e+00 - factorized_top_k/top_10_categorical_accuracy: 0.0000e+00 - factorized_top_k/top_50_categorical_accuracy: 0.0000e+00 - factorized_top_k/top_100_categorical_accuracy: 0.0000e+00 - loss: 2103.5001 - regularization_loss: 0.0000e+00 - total_loss: 2103.5001\n",
      "Epoch 18/50\n",
      "196/196 [==============================] - 33s 169ms/step - factorized_top_k/top_1_categorical_accuracy: 0.0000e+00 - factorized_top_k/top_5_categorical_accuracy: 0.0000e+00 - factorized_top_k/top_10_categorical_accuracy: 0.0000e+00 - factorized_top_k/top_50_categorical_accuracy: 0.0000e+00 - factorized_top_k/top_100_categorical_accuracy: 0.0000e+00 - loss: 2036.4371 - regularization_loss: 0.0000e+00 - total_loss: 2036.4371\n",
      "Epoch 19/50\n",
      "196/196 [==============================] - 34s 172ms/step - factorized_top_k/top_1_categorical_accuracy: 0.0000e+00 - factorized_top_k/top_5_categorical_accuracy: 0.0000e+00 - factorized_top_k/top_10_categorical_accuracy: 0.0000e+00 - factorized_top_k/top_50_categorical_accuracy: 0.0000e+00 - factorized_top_k/top_100_categorical_accuracy: 0.0000e+00 - loss: 1974.5972 - regularization_loss: 0.0000e+00 - total_loss: 1974.5972\n",
      "Epoch 20/50\n",
      "196/196 [==============================] - 33s 167ms/step - factorized_top_k/top_1_categorical_accuracy: 0.0000e+00 - factorized_top_k/top_5_categorical_accuracy: 0.0000e+00 - factorized_top_k/top_10_categorical_accuracy: 0.0000e+00 - factorized_top_k/top_50_categorical_accuracy: 0.0000e+00 - factorized_top_k/top_100_categorical_accuracy: 0.0000e+00 - loss: 1913.7320 - regularization_loss: 0.0000e+00 - total_loss: 1913.7320\n",
      "Epoch 21/50\n",
      "196/196 [==============================] - 33s 171ms/step - factorized_top_k/top_1_categorical_accuracy: 0.0000e+00 - factorized_top_k/top_5_categorical_accuracy: 0.0000e+00 - factorized_top_k/top_10_categorical_accuracy: 0.0000e+00 - factorized_top_k/top_50_categorical_accuracy: 0.0000e+00 - factorized_top_k/top_100_categorical_accuracy: 0.0000e+00 - loss: 1855.1669 - regularization_loss: 0.0000e+00 - total_loss: 1855.1669\n",
      "Epoch 22/50\n",
      "196/196 [==============================] - 33s 170ms/step - factorized_top_k/top_1_categorical_accuracy: 0.0000e+00 - factorized_top_k/top_5_categorical_accuracy: 0.0000e+00 - factorized_top_k/top_10_categorical_accuracy: 0.0000e+00 - factorized_top_k/top_50_categorical_accuracy: 0.0000e+00 - factorized_top_k/top_100_categorical_accuracy: 0.0000e+00 - loss: 1794.0791 - regularization_loss: 0.0000e+00 - total_loss: 1794.0791\n",
      "Epoch 23/50\n",
      "196/196 [==============================] - 33s 167ms/step - factorized_top_k/top_1_categorical_accuracy: 0.0000e+00 - factorized_top_k/top_5_categorical_accuracy: 0.0000e+00 - factorized_top_k/top_10_categorical_accuracy: 0.0000e+00 - factorized_top_k/top_50_categorical_accuracy: 0.0000e+00 - factorized_top_k/top_100_categorical_accuracy: 0.0000e+00 - loss: 1735.3832 - regularization_loss: 0.0000e+00 - total_loss: 1735.3832\n",
      "Epoch 24/50\n",
      "196/196 [==============================] - 33s 170ms/step - factorized_top_k/top_1_categorical_accuracy: 0.0000e+00 - factorized_top_k/top_5_categorical_accuracy: 0.0000e+00 - factorized_top_k/top_10_categorical_accuracy: 0.0000e+00 - factorized_top_k/top_50_categorical_accuracy: 0.0000e+00 - factorized_top_k/top_100_categorical_accuracy: 0.0000e+00 - loss: 1679.4330 - regularization_loss: 0.0000e+00 - total_loss: 1679.4330\n",
      "Epoch 25/50\n",
      "196/196 [==============================] - 33s 166ms/step - factorized_top_k/top_1_categorical_accuracy: 0.0000e+00 - factorized_top_k/top_5_categorical_accuracy: 0.0000e+00 - factorized_top_k/top_10_categorical_accuracy: 0.0000e+00 - factorized_top_k/top_50_categorical_accuracy: 0.0000e+00 - factorized_top_k/top_100_categorical_accuracy: 0.0000e+00 - loss: 1632.2918 - regularization_loss: 0.0000e+00 - total_loss: 1632.2918\n",
      "Epoch 26/50\n",
      "196/196 [==============================] - 33s 169ms/step - factorized_top_k/top_1_categorical_accuracy: 0.0000e+00 - factorized_top_k/top_5_categorical_accuracy: 0.0000e+00 - factorized_top_k/top_10_categorical_accuracy: 0.0000e+00 - factorized_top_k/top_50_categorical_accuracy: 0.0000e+00 - factorized_top_k/top_100_categorical_accuracy: 0.0000e+00 - loss: 1581.8191 - regularization_loss: 0.0000e+00 - total_loss: 1581.8191\n",
      "Epoch 27/50\n",
      "196/196 [==============================] - 33s 166ms/step - factorized_top_k/top_1_categorical_accuracy: 0.0000e+00 - factorized_top_k/top_5_categorical_accuracy: 0.0000e+00 - factorized_top_k/top_10_categorical_accuracy: 0.0000e+00 - factorized_top_k/top_50_categorical_accuracy: 0.0000e+00 - factorized_top_k/top_100_categorical_accuracy: 0.0000e+00 - loss: 1531.9904 - regularization_loss: 0.0000e+00 - total_loss: 1531.9904\n",
      "Epoch 28/50\n",
      "196/196 [==============================] - 33s 170ms/step - factorized_top_k/top_1_categorical_accuracy: 0.0000e+00 - factorized_top_k/top_5_categorical_accuracy: 0.0000e+00 - factorized_top_k/top_10_categorical_accuracy: 0.0000e+00 - factorized_top_k/top_50_categorical_accuracy: 0.0000e+00 - factorized_top_k/top_100_categorical_accuracy: 0.0000e+00 - loss: 1488.5285 - regularization_loss: 0.0000e+00 - total_loss: 1488.5285\n",
      "Epoch 29/50\n",
      "196/196 [==============================] - 33s 167ms/step - factorized_top_k/top_1_categorical_accuracy: 0.0000e+00 - factorized_top_k/top_5_categorical_accuracy: 0.0000e+00 - factorized_top_k/top_10_categorical_accuracy: 0.0000e+00 - factorized_top_k/top_50_categorical_accuracy: 0.0000e+00 - factorized_top_k/top_100_categorical_accuracy: 0.0000e+00 - loss: 1445.7203 - regularization_loss: 0.0000e+00 - total_loss: 1445.7203\n",
      "Epoch 30/50\n",
      "196/196 [==============================] - 33s 170ms/step - factorized_top_k/top_1_categorical_accuracy: 0.0000e+00 - factorized_top_k/top_5_categorical_accuracy: 0.0000e+00 - factorized_top_k/top_10_categorical_accuracy: 0.0000e+00 - factorized_top_k/top_50_categorical_accuracy: 0.0000e+00 - factorized_top_k/top_100_categorical_accuracy: 0.0000e+00 - loss: 1412.5693 - regularization_loss: 0.0000e+00 - total_loss: 1412.5693\n",
      "Epoch 31/50\n",
      "196/196 [==============================] - 33s 169ms/step - factorized_top_k/top_1_categorical_accuracy: 0.0000e+00 - factorized_top_k/top_5_categorical_accuracy: 0.0000e+00 - factorized_top_k/top_10_categorical_accuracy: 0.0000e+00 - factorized_top_k/top_50_categorical_accuracy: 0.0000e+00 - factorized_top_k/top_100_categorical_accuracy: 0.0000e+00 - loss: 1381.2991 - regularization_loss: 0.0000e+00 - total_loss: 1381.2991\n",
      "Epoch 32/50\n",
      "196/196 [==============================] - 32s 165ms/step - factorized_top_k/top_1_categorical_accuracy: 0.0000e+00 - factorized_top_k/top_5_categorical_accuracy: 0.0000e+00 - factorized_top_k/top_10_categorical_accuracy: 0.0000e+00 - factorized_top_k/top_50_categorical_accuracy: 0.0000e+00 - factorized_top_k/top_100_categorical_accuracy: 0.0000e+00 - loss: 1350.6030 - regularization_loss: 0.0000e+00 - total_loss: 1350.6030\n",
      "Epoch 33/50\n",
      "196/196 [==============================] - 33s 166ms/step - factorized_top_k/top_1_categorical_accuracy: 0.0000e+00 - factorized_top_k/top_5_categorical_accuracy: 0.0000e+00 - factorized_top_k/top_10_categorical_accuracy: 0.0000e+00 - factorized_top_k/top_50_categorical_accuracy: 0.0000e+00 - factorized_top_k/top_100_categorical_accuracy: 0.0000e+00 - loss: 1311.2396 - regularization_loss: 0.0000e+00 - total_loss: 1311.2396\n",
      "Epoch 34/50\n",
      "196/196 [==============================] - 32s 163ms/step - factorized_top_k/top_1_categorical_accuracy: 0.0000e+00 - factorized_top_k/top_5_categorical_accuracy: 0.0000e+00 - factorized_top_k/top_10_categorical_accuracy: 0.0000e+00 - factorized_top_k/top_50_categorical_accuracy: 0.0000e+00 - factorized_top_k/top_100_categorical_accuracy: 0.0000e+00 - loss: 1283.2157 - regularization_loss: 0.0000e+00 - total_loss: 1283.2157\n",
      "Epoch 35/50\n",
      "196/196 [==============================] - 33s 166ms/step - factorized_top_k/top_1_categorical_accuracy: 0.0000e+00 - factorized_top_k/top_5_categorical_accuracy: 0.0000e+00 - factorized_top_k/top_10_categorical_accuracy: 0.0000e+00 - factorized_top_k/top_50_categorical_accuracy: 0.0000e+00 - factorized_top_k/top_100_categorical_accuracy: 0.0000e+00 - loss: 1254.9888 - regularization_loss: 0.0000e+00 - total_loss: 1254.9888\n",
      "Epoch 36/50\n",
      "196/196 [==============================] - 32s 162ms/step - factorized_top_k/top_1_categorical_accuracy: 0.0000e+00 - factorized_top_k/top_5_categorical_accuracy: 0.0000e+00 - factorized_top_k/top_10_categorical_accuracy: 0.0000e+00 - factorized_top_k/top_50_categorical_accuracy: 0.0000e+00 - factorized_top_k/top_100_categorical_accuracy: 0.0000e+00 - loss: 1233.1993 - regularization_loss: 0.0000e+00 - total_loss: 1233.1993\n",
      "Epoch 37/50\n",
      "196/196 [==============================] - 32s 165ms/step - factorized_top_k/top_1_categorical_accuracy: 0.0000e+00 - factorized_top_k/top_5_categorical_accuracy: 0.0000e+00 - factorized_top_k/top_10_categorical_accuracy: 0.0000e+00 - factorized_top_k/top_50_categorical_accuracy: 0.0000e+00 - factorized_top_k/top_100_categorical_accuracy: 0.0000e+00 - loss: 1213.9679 - regularization_loss: 0.0000e+00 - total_loss: 1213.9679\n",
      "Epoch 38/50\n",
      "196/196 [==============================] - 32s 162ms/step - factorized_top_k/top_1_categorical_accuracy: 0.0000e+00 - factorized_top_k/top_5_categorical_accuracy: 0.0000e+00 - factorized_top_k/top_10_categorical_accuracy: 0.0000e+00 - factorized_top_k/top_50_categorical_accuracy: 0.0000e+00 - factorized_top_k/top_100_categorical_accuracy: 0.0000e+00 - loss: 1187.9939 - regularization_loss: 0.0000e+00 - total_loss: 1187.9939\n",
      "Epoch 39/50\n",
      "196/196 [==============================] - 32s 164ms/step - factorized_top_k/top_1_categorical_accuracy: 0.0000e+00 - factorized_top_k/top_5_categorical_accuracy: 0.0000e+00 - factorized_top_k/top_10_categorical_accuracy: 0.0000e+00 - factorized_top_k/top_50_categorical_accuracy: 0.0000e+00 - factorized_top_k/top_100_categorical_accuracy: 0.0000e+00 - loss: 1170.2051 - regularization_loss: 0.0000e+00 - total_loss: 1170.2051\n",
      "Epoch 40/50\n",
      "196/196 [==============================] - 32s 161ms/step - factorized_top_k/top_1_categorical_accuracy: 0.0000e+00 - factorized_top_k/top_5_categorical_accuracy: 0.0000e+00 - factorized_top_k/top_10_categorical_accuracy: 0.0000e+00 - factorized_top_k/top_50_categorical_accuracy: 0.0000e+00 - factorized_top_k/top_100_categorical_accuracy: 0.0000e+00 - loss: 1157.0477 - regularization_loss: 0.0000e+00 - total_loss: 1157.0477\n",
      "Epoch 41/50\n",
      "196/196 [==============================] - 32s 165ms/step - factorized_top_k/top_1_categorical_accuracy: 0.0000e+00 - factorized_top_k/top_5_categorical_accuracy: 0.0000e+00 - factorized_top_k/top_10_categorical_accuracy: 0.0000e+00 - factorized_top_k/top_50_categorical_accuracy: 0.0000e+00 - factorized_top_k/top_100_categorical_accuracy: 0.0000e+00 - loss: 1139.6636 - regularization_loss: 0.0000e+00 - total_loss: 1139.6636\n",
      "Epoch 42/50\n",
      "196/196 [==============================] - 32s 163ms/step - factorized_top_k/top_1_categorical_accuracy: 0.0000e+00 - factorized_top_k/top_5_categorical_accuracy: 0.0000e+00 - factorized_top_k/top_10_categorical_accuracy: 0.0000e+00 - factorized_top_k/top_50_categorical_accuracy: 0.0000e+00 - factorized_top_k/top_100_categorical_accuracy: 0.0000e+00 - loss: 1126.3182 - regularization_loss: 0.0000e+00 - total_loss: 1126.3182\n",
      "Epoch 43/50\n",
      "196/196 [==============================] - 32s 165ms/step - factorized_top_k/top_1_categorical_accuracy: 0.0000e+00 - factorized_top_k/top_5_categorical_accuracy: 0.0000e+00 - factorized_top_k/top_10_categorical_accuracy: 0.0000e+00 - factorized_top_k/top_50_categorical_accuracy: 0.0000e+00 - factorized_top_k/top_100_categorical_accuracy: 0.0000e+00 - loss: 1112.9446 - regularization_loss: 0.0000e+00 - total_loss: 1112.9446\n",
      "Epoch 44/50\n",
      "196/196 [==============================] - 32s 164ms/step - factorized_top_k/top_1_categorical_accuracy: 0.0000e+00 - factorized_top_k/top_5_categorical_accuracy: 0.0000e+00 - factorized_top_k/top_10_categorical_accuracy: 0.0000e+00 - factorized_top_k/top_50_categorical_accuracy: 0.0000e+00 - factorized_top_k/top_100_categorical_accuracy: 0.0000e+00 - loss: 1100.9968 - regularization_loss: 0.0000e+00 - total_loss: 1100.9968\n",
      "Epoch 45/50\n",
      "196/196 [==============================] - 32s 161ms/step - factorized_top_k/top_1_categorical_accuracy: 0.0000e+00 - factorized_top_k/top_5_categorical_accuracy: 0.0000e+00 - factorized_top_k/top_10_categorical_accuracy: 0.0000e+00 - factorized_top_k/top_50_categorical_accuracy: 0.0000e+00 - factorized_top_k/top_100_categorical_accuracy: 0.0000e+00 - loss: 1086.8853 - regularization_loss: 0.0000e+00 - total_loss: 1086.8853\n",
      "Epoch 46/50\n",
      "196/196 [==============================] - 32s 165ms/step - factorized_top_k/top_1_categorical_accuracy: 0.0000e+00 - factorized_top_k/top_5_categorical_accuracy: 0.0000e+00 - factorized_top_k/top_10_categorical_accuracy: 0.0000e+00 - factorized_top_k/top_50_categorical_accuracy: 0.0000e+00 - factorized_top_k/top_100_categorical_accuracy: 0.0000e+00 - loss: 1076.2704 - regularization_loss: 0.0000e+00 - total_loss: 1076.2704\n",
      "Epoch 47/50\n",
      "196/196 [==============================] - 32s 162ms/step - factorized_top_k/top_1_categorical_accuracy: 0.0000e+00 - factorized_top_k/top_5_categorical_accuracy: 0.0000e+00 - factorized_top_k/top_10_categorical_accuracy: 0.0000e+00 - factorized_top_k/top_50_categorical_accuracy: 0.0000e+00 - factorized_top_k/top_100_categorical_accuracy: 0.0000e+00 - loss: 1066.9155 - regularization_loss: 0.0000e+00 - total_loss: 1066.9155\n",
      "Epoch 48/50\n",
      "196/196 [==============================] - 33s 166ms/step - factorized_top_k/top_1_categorical_accuracy: 0.0000e+00 - factorized_top_k/top_5_categorical_accuracy: 0.0000e+00 - factorized_top_k/top_10_categorical_accuracy: 0.0000e+00 - factorized_top_k/top_50_categorical_accuracy: 0.0000e+00 - factorized_top_k/top_100_categorical_accuracy: 0.0000e+00 - loss: 1060.1904 - regularization_loss: 0.0000e+00 - total_loss: 1060.1904\n",
      "Epoch 49/50\n",
      "196/196 [==============================] - 32s 162ms/step - factorized_top_k/top_1_categorical_accuracy: 0.0000e+00 - factorized_top_k/top_5_categorical_accuracy: 0.0000e+00 - factorized_top_k/top_10_categorical_accuracy: 0.0000e+00 - factorized_top_k/top_50_categorical_accuracy: 0.0000e+00 - factorized_top_k/top_100_categorical_accuracy: 0.0000e+00 - loss: 1053.0622 - regularization_loss: 0.0000e+00 - total_loss: 1053.0622\n",
      "Epoch 50/50\n",
      "196/196 [==============================] - 32s 164ms/step - factorized_top_k/top_1_categorical_accuracy: 0.0000e+00 - factorized_top_k/top_5_categorical_accuracy: 0.0000e+00 - factorized_top_k/top_10_categorical_accuracy: 0.0000e+00 - factorized_top_k/top_50_categorical_accuracy: 0.0000e+00 - factorized_top_k/top_100_categorical_accuracy: 0.0000e+00 - loss: 1045.1763 - regularization_loss: 0.0000e+00 - total_loss: 1045.1763\n"
     ]
    },
    {
     "data": {
      "text/plain": [
       "<keras.callbacks.History at 0x7f2bc999e460>"
      ]
     },
     "execution_count": 23,
     "metadata": {},
     "output_type": "execute_result"
    }
   ],
   "source": [
    "callbacks = []  # [tensorboard_callback]\n",
    "model.fit(cached_train, epochs=50)"
   ]
  },
  {
   "cell_type": "code",
   "execution_count": 23,
   "id": "5772bcc6-5973-4d78-8852-339ff42148ab",
   "metadata": {},
   "outputs": [],
   "source": [
    "test_df = pd.DataFrame(training_dataset).head(150).tail(1).to_dict('list')"
   ]
  },
  {
   "cell_type": "code",
   "execution_count": 24,
   "id": "f467bd99-e158-45c1-a0ad-42ed35c05b43",
   "metadata": {},
   "outputs": [],
   "source": [
    "tensor_features = {}\n",
    "for col, transform in zip(input_columns, col_tf_transforms):\n",
    "    tensor = transform(test_df[col])\n",
    "    tensor_features[col] = tensor"
   ]
  },
  {
   "cell_type": "code",
   "execution_count": 25,
   "id": "1e5f103f-a277-408d-a47b-af2bcb82c214",
   "metadata": {},
   "outputs": [],
   "source": [
    "cache = tf.data.Dataset.from_tensor_slices(tensor_features).batch(1).cache().prefetch(tf.data.AUTOTUNE)\n",
    "for batch in cache:\n",
    "    data = batch\n",
    "    #out = model._query_model(batch)"
   ]
  },
  {
   "cell_type": "code",
   "execution_count": 26,
   "id": "9c92bbf0-0e70-4c35-947c-a0e3298635da",
   "metadata": {},
   "outputs": [
    {
     "data": {
      "text/plain": [
       "<tensorflow_recommenders.layers.factorized_top_k.BruteForce at 0x7f2e98e53f10>"
      ]
     },
     "execution_count": 26,
     "metadata": {},
     "output_type": "execute_result"
    }
   ],
   "source": [
    "brute_force_layer = tfrs.layers.factorized_top_k.BruteForce(\n",
    "    model._query_model.user_model\n",
    ")\n",
    "\n",
    "brute_force_layer.index_from_dataset(\n",
    "    movie_ds.batch(128).map(lambda title: (title['movie_id'], model._query_model.candidate_model(title)))\n",
    ")"
   ]
  },
  {
   "cell_type": "code",
   "execution_count": 27,
   "id": "873399b5-99cf-4197-8866-25e11425c3ee",
   "metadata": {},
   "outputs": [
    {
     "name": "stdout",
     "output_type": "stream",
     "text": [
      "Recommendations for user [b'119'] using BruteForce: [b'1274' b'1274' b'1274' b'1274' b'1274' b'1274' b'1274' b'1274' b'1274'\n",
      " b'1274']\n"
     ]
    }
   ],
   "source": [
    "afinity_scores, movie_ids = brute_force_layer(data)\n",
    "print(f\"Recommendations for user {data['user_id']} using BruteForce: {movie_ids[0, :10]}\")"
   ]
  },
  {
   "cell_type": "code",
   "execution_count": 28,
   "id": "b8d5b366-a9e1-4b92-86be-35baa4cc9daf",
   "metadata": {},
   "outputs": [
    {
     "data": {
      "text/plain": [
       "<tf.Tensor: shape=(), dtype=float32, numpy=0.096436866>"
      ]
     },
     "execution_count": 28,
     "metadata": {},
     "output_type": "execute_result"
    }
   ],
   "source": [
    "afinity_scores[0,0]"
   ]
  },
  {
   "cell_type": "code",
   "execution_count": 29,
   "id": "0e719856-ea6a-43b6-944c-0c59d5b4c9dd",
   "metadata": {},
   "outputs": [
    {
     "name": "stdout",
     "output_type": "stream",
     "text": [
      "WARNING:tensorflow:The dtype of the watched tensor must be floating (e.g. tf.float32), got tf.string\n"
     ]
    },
    {
     "name": "stderr",
     "output_type": "stream",
     "text": [
      "WARNING:tensorflow:The dtype of the watched tensor must be floating (e.g. tf.float32), got tf.string\n"
     ]
    },
    {
     "name": "stdout",
     "output_type": "stream",
     "text": [
      "WARNING:tensorflow:The dtype of the watched tensor must be floating (e.g. tf.float32), got tf.string\n"
     ]
    },
    {
     "name": "stderr",
     "output_type": "stream",
     "text": [
      "WARNING:tensorflow:The dtype of the watched tensor must be floating (e.g. tf.float32), got tf.string\n"
     ]
    },
    {
     "name": "stdout",
     "output_type": "stream",
     "text": [
      "WARNING:tensorflow:The dtype of the watched tensor must be floating (e.g. tf.float32), got tf.int32\n"
     ]
    },
    {
     "name": "stderr",
     "output_type": "stream",
     "text": [
      "WARNING:tensorflow:The dtype of the watched tensor must be floating (e.g. tf.float32), got tf.int32\n"
     ]
    },
    {
     "name": "stdout",
     "output_type": "stream",
     "text": [
      "WARNING:tensorflow:The dtype of the watched tensor must be floating (e.g. tf.float32), got tf.string\n"
     ]
    },
    {
     "name": "stderr",
     "output_type": "stream",
     "text": [
      "WARNING:tensorflow:The dtype of the watched tensor must be floating (e.g. tf.float32), got tf.string\n"
     ]
    },
    {
     "name": "stdout",
     "output_type": "stream",
     "text": [
      "WARNING:tensorflow:The dtype of the watched tensor must be floating (e.g. tf.float32), got tf.string\n"
     ]
    },
    {
     "name": "stderr",
     "output_type": "stream",
     "text": [
      "WARNING:tensorflow:The dtype of the watched tensor must be floating (e.g. tf.float32), got tf.string\n"
     ]
    },
    {
     "name": "stdout",
     "output_type": "stream",
     "text": [
      "WARNING:tensorflow:The dtype of the source tensor must be floating (e.g. tf.float32) when calling GradientTape.gradient, got tf.string\n"
     ]
    },
    {
     "name": "stderr",
     "output_type": "stream",
     "text": [
      "WARNING:tensorflow:The dtype of the source tensor must be floating (e.g. tf.float32) when calling GradientTape.gradient, got tf.string\n"
     ]
    },
    {
     "name": "stdout",
     "output_type": "stream",
     "text": [
      "WARNING:tensorflow:The dtype of the source tensor must be floating (e.g. tf.float32) when calling GradientTape.gradient, got tf.string\n"
     ]
    },
    {
     "name": "stderr",
     "output_type": "stream",
     "text": [
      "WARNING:tensorflow:The dtype of the source tensor must be floating (e.g. tf.float32) when calling GradientTape.gradient, got tf.string\n"
     ]
    },
    {
     "name": "stdout",
     "output_type": "stream",
     "text": [
      "WARNING:tensorflow:The dtype of the source tensor must be floating (e.g. tf.float32) when calling GradientTape.gradient, got tf.int32\n"
     ]
    },
    {
     "name": "stderr",
     "output_type": "stream",
     "text": [
      "WARNING:tensorflow:The dtype of the source tensor must be floating (e.g. tf.float32) when calling GradientTape.gradient, got tf.int32\n"
     ]
    },
    {
     "name": "stdout",
     "output_type": "stream",
     "text": [
      "WARNING:tensorflow:The dtype of the source tensor must be floating (e.g. tf.float32) when calling GradientTape.gradient, got tf.string\n"
     ]
    },
    {
     "name": "stderr",
     "output_type": "stream",
     "text": [
      "WARNING:tensorflow:The dtype of the source tensor must be floating (e.g. tf.float32) when calling GradientTape.gradient, got tf.string\n"
     ]
    },
    {
     "name": "stdout",
     "output_type": "stream",
     "text": [
      "WARNING:tensorflow:The dtype of the source tensor must be floating (e.g. tf.float32) when calling GradientTape.gradient, got tf.string\n"
     ]
    },
    {
     "name": "stderr",
     "output_type": "stream",
     "text": [
      "WARNING:tensorflow:The dtype of the source tensor must be floating (e.g. tf.float32) when calling GradientTape.gradient, got tf.string\n"
     ]
    },
    {
     "name": "stdout",
     "output_type": "stream",
     "text": [
      "WARNING:tensorflow:The dtype of the source tensor must be floating (e.g. tf.float32) when calling GradientTape.gradient, got tf.string\n"
     ]
    },
    {
     "name": "stderr",
     "output_type": "stream",
     "text": [
      "WARNING:tensorflow:The dtype of the source tensor must be floating (e.g. tf.float32) when calling GradientTape.gradient, got tf.string\n"
     ]
    }
   ],
   "source": [
    "with tf.GradientTape() as tape:\n",
    "    tape.watch(data)\n",
    "    loss, movie_output, user_output = model._query_model(data)\n",
    "    afinity_scores, movie_ids = brute_force_layer(data)\n",
    "    user = user_output[1]\n",
    "    history = user_output[2]\n",
    "    genre = movie_output[2]\n",
    "    candidate_embedding = movie_output[0]\n",
    "    full_grad = tape.gradient(afinity_scores[0,0], data)"
   ]
  },
  {
   "cell_type": "code",
   "execution_count": 30,
   "id": "89d8fd38-7b9d-4cca-9c78-4e1941281540",
   "metadata": {},
   "outputs": [
    {
     "data": {
      "text/html": [
       "<div>\n",
       "<style scoped>\n",
       "    .dataframe tbody tr th:only-of-type {\n",
       "        vertical-align: middle;\n",
       "    }\n",
       "\n",
       "    .dataframe tbody tr th {\n",
       "        vertical-align: top;\n",
       "    }\n",
       "\n",
       "    .dataframe thead th {\n",
       "        text-align: right;\n",
       "    }\n",
       "</style>\n",
       "<table border=\"1\" class=\"dataframe\">\n",
       "  <thead>\n",
       "    <tr style=\"text-align: right;\">\n",
       "      <th></th>\n",
       "      <th>0</th>\n",
       "    </tr>\n",
       "  </thead>\n",
       "  <tbody>\n",
       "    <tr>\n",
       "      <th>bucketized_user_age</th>\n",
       "      <td>0.038949</td>\n",
       "    </tr>\n",
       "    <tr>\n",
       "      <th>movie_id</th>\n",
       "      <td>None</td>\n",
       "    </tr>\n",
       "    <tr>\n",
       "      <th>raw_user_age</th>\n",
       "      <td>0.020876</td>\n",
       "    </tr>\n",
       "    <tr>\n",
       "      <th>user_gender</th>\n",
       "      <td>None</td>\n",
       "    </tr>\n",
       "    <tr>\n",
       "      <th>user_id</th>\n",
       "      <td>None</td>\n",
       "    </tr>\n",
       "    <tr>\n",
       "      <th>user_occupation_label</th>\n",
       "      <td>None</td>\n",
       "    </tr>\n",
       "    <tr>\n",
       "      <th>movie_genres</th>\n",
       "      <td>None</td>\n",
       "    </tr>\n",
       "    <tr>\n",
       "      <th>watch_history</th>\n",
       "      <td>None</td>\n",
       "    </tr>\n",
       "  </tbody>\n",
       "</table>\n",
       "</div>"
      ],
      "text/plain": [
       "                              0\n",
       "bucketized_user_age    0.038949\n",
       "movie_id                   None\n",
       "raw_user_age           0.020876\n",
       "user_gender                None\n",
       "user_id                    None\n",
       "user_occupation_label      None\n",
       "movie_genres               None\n",
       "watch_history              None"
      ]
     },
     "execution_count": 30,
     "metadata": {},
     "output_type": "execute_result"
    }
   ],
   "source": [
    "pd.DataFrame(full_grad).T"
   ]
  },
  {
   "cell_type": "code",
   "execution_count": 31,
   "id": "43b8f71f-11b7-4b71-91e4-760532ded016",
   "metadata": {},
   "outputs": [
    {
     "name": "stdout",
     "output_type": "stream",
     "text": [
      "WARNING:tensorflow:The dtype of the watched tensor must be floating (e.g. tf.float32), got tf.string\n"
     ]
    },
    {
     "name": "stderr",
     "output_type": "stream",
     "text": [
      "WARNING:tensorflow:The dtype of the watched tensor must be floating (e.g. tf.float32), got tf.string\n"
     ]
    },
    {
     "name": "stdout",
     "output_type": "stream",
     "text": [
      "WARNING:tensorflow:The dtype of the watched tensor must be floating (e.g. tf.float32), got tf.string\n"
     ]
    },
    {
     "name": "stderr",
     "output_type": "stream",
     "text": [
      "WARNING:tensorflow:The dtype of the watched tensor must be floating (e.g. tf.float32), got tf.string\n"
     ]
    },
    {
     "name": "stdout",
     "output_type": "stream",
     "text": [
      "WARNING:tensorflow:The dtype of the watched tensor must be floating (e.g. tf.float32), got tf.int32\n"
     ]
    },
    {
     "name": "stderr",
     "output_type": "stream",
     "text": [
      "WARNING:tensorflow:The dtype of the watched tensor must be floating (e.g. tf.float32), got tf.int32\n"
     ]
    },
    {
     "name": "stdout",
     "output_type": "stream",
     "text": [
      "WARNING:tensorflow:The dtype of the watched tensor must be floating (e.g. tf.float32), got tf.string\n"
     ]
    },
    {
     "name": "stderr",
     "output_type": "stream",
     "text": [
      "WARNING:tensorflow:The dtype of the watched tensor must be floating (e.g. tf.float32), got tf.string\n"
     ]
    },
    {
     "name": "stdout",
     "output_type": "stream",
     "text": [
      "WARNING:tensorflow:The dtype of the watched tensor must be floating (e.g. tf.float32), got tf.string\n"
     ]
    },
    {
     "name": "stderr",
     "output_type": "stream",
     "text": [
      "WARNING:tensorflow:The dtype of the watched tensor must be floating (e.g. tf.float32), got tf.string\n"
     ]
    },
    {
     "name": "stdout",
     "output_type": "stream",
     "text": [
      "WARNING:tensorflow:The dtype of the source tensor must be floating (e.g. tf.float32) when calling GradientTape.gradient, got tf.string\n"
     ]
    },
    {
     "name": "stderr",
     "output_type": "stream",
     "text": [
      "WARNING:tensorflow:The dtype of the source tensor must be floating (e.g. tf.float32) when calling GradientTape.gradient, got tf.string\n"
     ]
    },
    {
     "name": "stdout",
     "output_type": "stream",
     "text": [
      "WARNING:tensorflow:The dtype of the source tensor must be floating (e.g. tf.float32) when calling GradientTape.gradient, got tf.string\n"
     ]
    },
    {
     "name": "stderr",
     "output_type": "stream",
     "text": [
      "WARNING:tensorflow:The dtype of the source tensor must be floating (e.g. tf.float32) when calling GradientTape.gradient, got tf.string\n"
     ]
    },
    {
     "name": "stdout",
     "output_type": "stream",
     "text": [
      "WARNING:tensorflow:The dtype of the source tensor must be floating (e.g. tf.float32) when calling GradientTape.gradient, got tf.int32\n"
     ]
    },
    {
     "name": "stderr",
     "output_type": "stream",
     "text": [
      "WARNING:tensorflow:The dtype of the source tensor must be floating (e.g. tf.float32) when calling GradientTape.gradient, got tf.int32\n"
     ]
    },
    {
     "name": "stdout",
     "output_type": "stream",
     "text": [
      "WARNING:tensorflow:The dtype of the source tensor must be floating (e.g. tf.float32) when calling GradientTape.gradient, got tf.string\n"
     ]
    },
    {
     "name": "stderr",
     "output_type": "stream",
     "text": [
      "WARNING:tensorflow:The dtype of the source tensor must be floating (e.g. tf.float32) when calling GradientTape.gradient, got tf.string\n"
     ]
    },
    {
     "name": "stdout",
     "output_type": "stream",
     "text": [
      "WARNING:tensorflow:The dtype of the source tensor must be floating (e.g. tf.float32) when calling GradientTape.gradient, got tf.string\n"
     ]
    },
    {
     "name": "stderr",
     "output_type": "stream",
     "text": [
      "WARNING:tensorflow:The dtype of the source tensor must be floating (e.g. tf.float32) when calling GradientTape.gradient, got tf.string\n"
     ]
    },
    {
     "name": "stdout",
     "output_type": "stream",
     "text": [
      "WARNING:tensorflow:The dtype of the source tensor must be floating (e.g. tf.float32) when calling GradientTape.gradient, got tf.string\n"
     ]
    },
    {
     "name": "stderr",
     "output_type": "stream",
     "text": [
      "WARNING:tensorflow:The dtype of the source tensor must be floating (e.g. tf.float32) when calling GradientTape.gradient, got tf.string\n"
     ]
    }
   ],
   "source": [
    "with tf.GradientTape() as tape:\n",
    "    tape.watch(data)\n",
    "    loss, movie_output, user_output = model._query_model(data)\n",
    "    afinity_scores, movie_ids = brute_force_layer(data)\n",
    "    user = user_output[1]\n",
    "    history = user_output[2]\n",
    "    genre = movie_output[2]\n",
    "    candidate_embedding = movie_output[0]\n",
    "    full_grad = tape.gradient(afinity_scores[0,0], data)\n",
    "\n",
    "with tf.GradientTape() as tape:\n",
    "    query_embedding, movie_output, user_output = model._query_model(data)\n",
    "    afinity_scores, movie_ids = brute_force_layer(data)\n",
    "    user = user_output[1]\n",
    "    history = user_output[2]\n",
    "    genre = movie_output[2]\n",
    "    tape.watch(user)\n",
    "    user_grad = tape.gradient(query_embedding, history)\n",
    "    \n",
    "with tf.GradientTape() as tape:\n",
    "    query_embedding, movie_output, user_output = model._query_model(data)\n",
    "    afinity_scores, movie_ids = brute_force_layer(data)\n",
    "    user = user_output[1]\n",
    "    history = user_output[2]\n",
    "    genre = movie_output[2]\n",
    "    tape.watch(history)\n",
    "    history_grad = tape.gradient(afinity_scores[0,0], history)\n",
    "    \n",
    "with tf.GradientTape() as tape:\n",
    "    query_embedding, movie_output, user_output = model._query_model(data)\n",
    "    afinity_scores, movie_ids = brute_force_layer(data)\n",
    "    user = user_output[1]\n",
    "    history = user_output[2]\n",
    "    genre = movie_output[2]\n",
    "    tape.watch(genre)\n",
    "    genre_grad = tape.gradient(afinity_scores[0,0], genre)"
   ]
  },
  {
   "cell_type": "code",
   "execution_count": 32,
   "id": "cd49d3fd-48bd-4fbd-9718-77a325eb383d",
   "metadata": {},
   "outputs": [
    {
     "data": {
      "text/plain": [
       "(<tf.Tensor: shape=(1, 10, 256), dtype=float32, numpy=\n",
       " array([[[0., 0., 0., ..., 0., 0., 0.],\n",
       "         [0., 0., 0., ..., 0., 0., 0.],\n",
       "         [0., 0., 0., ..., 0., 0., 0.],\n",
       "         ...,\n",
       "         [0., 0., 0., ..., 0., 0., 0.],\n",
       "         [0., 0., 0., ..., 0., 0., 0.],\n",
       "         [0., 0., 0., ..., 0., 0., 0.]]], dtype=float32)>,\n",
       " None,\n",
       " None)"
      ]
     },
     "execution_count": 32,
     "metadata": {},
     "output_type": "execute_result"
    }
   ],
   "source": [
    "user_grad, history_grad, genre_grad"
   ]
  },
  {
   "cell_type": "code",
   "execution_count": 33,
   "id": "07a91c13-18ad-4716-a395-2ef2381ecfa0",
   "metadata": {},
   "outputs": [],
   "source": [
    "import lime\n",
    "import lime.lime_tabular"
   ]
  },
  {
   "cell_type": "code",
   "execution_count": 34,
   "id": "1c4d7160-e2e8-431a-9538-27f21e19185e",
   "metadata": {},
   "outputs": [],
   "source": [
    "training_data = pd.DataFrame(training_dataset)\n",
    "training_data[['genres_{}'.format(i) for i in range(6)]] = pd.DataFrame(training_data.movie_genres.tolist(), index= training_data.index)\n",
    "training_data[['history_{}'.format(i) for i in range(10)]] = pd.DataFrame(training_data.watch_history.tolist(), index= training_data.index)"
   ]
  },
  {
   "cell_type": "code",
   "execution_count": 35,
   "id": "183c4d83-9f5b-4aaa-9130-7bb2c458ce9c",
   "metadata": {},
   "outputs": [
    {
     "data": {
      "text/html": [
       "<div>\n",
       "<style scoped>\n",
       "    .dataframe tbody tr th:only-of-type {\n",
       "        vertical-align: middle;\n",
       "    }\n",
       "\n",
       "    .dataframe tbody tr th {\n",
       "        vertical-align: top;\n",
       "    }\n",
       "\n",
       "    .dataframe thead th {\n",
       "        text-align: right;\n",
       "    }\n",
       "</style>\n",
       "<table border=\"1\" class=\"dataframe\">\n",
       "  <thead>\n",
       "    <tr style=\"text-align: right;\">\n",
       "      <th></th>\n",
       "      <th>bucketized_user_age</th>\n",
       "      <th>movie_genres</th>\n",
       "      <th>movie_id</th>\n",
       "      <th>movie_title</th>\n",
       "      <th>raw_user_age</th>\n",
       "      <th>timestamp</th>\n",
       "      <th>user_gender</th>\n",
       "      <th>user_id</th>\n",
       "      <th>user_occupation_label</th>\n",
       "      <th>user_occupation_text</th>\n",
       "      <th>...</th>\n",
       "      <th>history_0</th>\n",
       "      <th>history_1</th>\n",
       "      <th>history_2</th>\n",
       "      <th>history_3</th>\n",
       "      <th>history_4</th>\n",
       "      <th>history_5</th>\n",
       "      <th>history_6</th>\n",
       "      <th>history_7</th>\n",
       "      <th>history_8</th>\n",
       "      <th>history_9</th>\n",
       "    </tr>\n",
       "  </thead>\n",
       "  <tbody>\n",
       "    <tr>\n",
       "      <th>0</th>\n",
       "      <td>0.321429</td>\n",
       "      <td>[-1, -1, -1, -1, 4, 14]</td>\n",
       "      <td>b'255'</td>\n",
       "      <td>b\"My Best Friend's Wedding (1997)\"</td>\n",
       "      <td>0.287671</td>\n",
       "      <td>874724710</td>\n",
       "      <td>1</td>\n",
       "      <td>b'259'</td>\n",
       "      <td>17</td>\n",
       "      <td>b'student'</td>\n",
       "      <td>...</td>\n",
       "      <td>b'UNK'</td>\n",
       "      <td>b'UNK'</td>\n",
       "      <td>b'UNK'</td>\n",
       "      <td>b'UNK'</td>\n",
       "      <td>b'UNK'</td>\n",
       "      <td>b'UNK'</td>\n",
       "      <td>b'UNK'</td>\n",
       "      <td>b'UNK'</td>\n",
       "      <td>b'UNK'</td>\n",
       "      <td>b'UNK'</td>\n",
       "    </tr>\n",
       "    <tr>\n",
       "      <th>1</th>\n",
       "      <td>0.321429</td>\n",
       "      <td>[-1, -1, -1, 7, 14, 18]</td>\n",
       "      <td>b'286'</td>\n",
       "      <td>b'English Patient, The (1996)'</td>\n",
       "      <td>0.287671</td>\n",
       "      <td>874724727</td>\n",
       "      <td>1</td>\n",
       "      <td>b'259'</td>\n",
       "      <td>17</td>\n",
       "      <td>b'student'</td>\n",
       "      <td>...</td>\n",
       "      <td>b'UNK'</td>\n",
       "      <td>b'UNK'</td>\n",
       "      <td>b'UNK'</td>\n",
       "      <td>b'UNK'</td>\n",
       "      <td>b'UNK'</td>\n",
       "      <td>b'UNK'</td>\n",
       "      <td>b'UNK'</td>\n",
       "      <td>b'UNK'</td>\n",
       "      <td>b'UNK'</td>\n",
       "      <td>255</td>\n",
       "    </tr>\n",
       "    <tr>\n",
       "      <th>2</th>\n",
       "      <td>0.321429</td>\n",
       "      <td>[-1, -1, -1, 0, 15, 16]</td>\n",
       "      <td>b'298'</td>\n",
       "      <td>b'Face/Off (1997)'</td>\n",
       "      <td>0.287671</td>\n",
       "      <td>874724754</td>\n",
       "      <td>1</td>\n",
       "      <td>b'259'</td>\n",
       "      <td>17</td>\n",
       "      <td>b'student'</td>\n",
       "      <td>...</td>\n",
       "      <td>b'UNK'</td>\n",
       "      <td>b'UNK'</td>\n",
       "      <td>b'UNK'</td>\n",
       "      <td>b'UNK'</td>\n",
       "      <td>b'UNK'</td>\n",
       "      <td>b'UNK'</td>\n",
       "      <td>b'UNK'</td>\n",
       "      <td>b'UNK'</td>\n",
       "      <td>255</td>\n",
       "      <td>286</td>\n",
       "    </tr>\n",
       "    <tr>\n",
       "      <th>3</th>\n",
       "      <td>0.321429</td>\n",
       "      <td>[-1, -1, -1, 10, 14, 16]</td>\n",
       "      <td>b'185'</td>\n",
       "      <td>b'Psycho (1960)'</td>\n",
       "      <td>0.287671</td>\n",
       "      <td>874724781</td>\n",
       "      <td>1</td>\n",
       "      <td>b'259'</td>\n",
       "      <td>17</td>\n",
       "      <td>b'student'</td>\n",
       "      <td>...</td>\n",
       "      <td>b'UNK'</td>\n",
       "      <td>b'UNK'</td>\n",
       "      <td>b'UNK'</td>\n",
       "      <td>b'UNK'</td>\n",
       "      <td>b'UNK'</td>\n",
       "      <td>b'UNK'</td>\n",
       "      <td>b'UNK'</td>\n",
       "      <td>255</td>\n",
       "      <td>286</td>\n",
       "      <td>298</td>\n",
       "    </tr>\n",
       "    <tr>\n",
       "      <th>4</th>\n",
       "      <td>0.321429</td>\n",
       "      <td>[-1, -1, 0, 1, 4, 14]</td>\n",
       "      <td>b'173'</td>\n",
       "      <td>b'Princess Bride, The (1987)'</td>\n",
       "      <td>0.287671</td>\n",
       "      <td>874724843</td>\n",
       "      <td>1</td>\n",
       "      <td>b'259'</td>\n",
       "      <td>17</td>\n",
       "      <td>b'student'</td>\n",
       "      <td>...</td>\n",
       "      <td>b'UNK'</td>\n",
       "      <td>b'UNK'</td>\n",
       "      <td>b'UNK'</td>\n",
       "      <td>b'UNK'</td>\n",
       "      <td>b'UNK'</td>\n",
       "      <td>b'UNK'</td>\n",
       "      <td>255</td>\n",
       "      <td>286</td>\n",
       "      <td>298</td>\n",
       "      <td>185</td>\n",
       "    </tr>\n",
       "  </tbody>\n",
       "</table>\n",
       "<p>5 rows × 31 columns</p>\n",
       "</div>"
      ],
      "text/plain": [
       "   bucketized_user_age              movie_genres movie_id  \\\n",
       "0             0.321429   [-1, -1, -1, -1, 4, 14]   b'255'   \n",
       "1             0.321429   [-1, -1, -1, 7, 14, 18]   b'286'   \n",
       "2             0.321429   [-1, -1, -1, 0, 15, 16]   b'298'   \n",
       "3             0.321429  [-1, -1, -1, 10, 14, 16]   b'185'   \n",
       "4             0.321429     [-1, -1, 0, 1, 4, 14]   b'173'   \n",
       "\n",
       "                          movie_title  raw_user_age  timestamp  user_gender  \\\n",
       "0  b\"My Best Friend's Wedding (1997)\"      0.287671  874724710            1   \n",
       "1      b'English Patient, The (1996)'      0.287671  874724727            1   \n",
       "2                  b'Face/Off (1997)'      0.287671  874724754            1   \n",
       "3                    b'Psycho (1960)'      0.287671  874724781            1   \n",
       "4       b'Princess Bride, The (1987)'      0.287671  874724843            1   \n",
       "\n",
       "  user_id user_occupation_label user_occupation_text  ...  history_0  \\\n",
       "0  b'259'                    17           b'student'  ...     b'UNK'   \n",
       "1  b'259'                    17           b'student'  ...     b'UNK'   \n",
       "2  b'259'                    17           b'student'  ...     b'UNK'   \n",
       "3  b'259'                    17           b'student'  ...     b'UNK'   \n",
       "4  b'259'                    17           b'student'  ...     b'UNK'   \n",
       "\n",
       "  history_1 history_2 history_3 history_4 history_5 history_6 history_7  \\\n",
       "0    b'UNK'    b'UNK'    b'UNK'    b'UNK'    b'UNK'    b'UNK'    b'UNK'   \n",
       "1    b'UNK'    b'UNK'    b'UNK'    b'UNK'    b'UNK'    b'UNK'    b'UNK'   \n",
       "2    b'UNK'    b'UNK'    b'UNK'    b'UNK'    b'UNK'    b'UNK'    b'UNK'   \n",
       "3    b'UNK'    b'UNK'    b'UNK'    b'UNK'    b'UNK'    b'UNK'       255   \n",
       "4    b'UNK'    b'UNK'    b'UNK'    b'UNK'    b'UNK'       255       286   \n",
       "\n",
       "  history_8 history_9  \n",
       "0    b'UNK'    b'UNK'  \n",
       "1    b'UNK'       255  \n",
       "2       255       286  \n",
       "3       286       298  \n",
       "4       298       185  \n",
       "\n",
       "[5 rows x 31 columns]"
      ]
     },
     "execution_count": 35,
     "metadata": {},
     "output_type": "execute_result"
    }
   ],
   "source": [
    "training_data.head()"
   ]
  },
  {
   "cell_type": "code",
   "execution_count": 36,
   "id": "6019bba6-d713-4bb5-bc10-704e171e1f71",
   "metadata": {},
   "outputs": [],
   "source": [
    "continuous_features = ['bucketized_user_age','raw_user_age']\n",
    "categorical_features = ['genres_{}'.format(i) for i in range(6)] + ['history_{}'.format(i) for i in range(10)] + ['user_gender', 'user_id', 'user_occupation_label','movie_id']\n",
    "from sklearn.preprocessing import LabelEncoder\n",
    "encoded_labels = {}\n",
    "for col in categorical_features:\n",
    "    encoder = LabelEncoder()\n",
    "    training_data[col] = encoder.fit_transform(training_data[col].astype(str))\n",
    "    encoded_labels[col] = encoder\n",
    "     "
   ]
  },
  {
   "cell_type": "code",
   "execution_count": 37,
   "id": "a4564fe8-f046-4dc4-9d08-852714904394",
   "metadata": {},
   "outputs": [],
   "source": [
    "features = continuous_features + categorical_features"
   ]
  },
  {
   "cell_type": "code",
   "execution_count": 38,
   "id": "2c85f568-8921-4157-9d19-663b2ffaa200",
   "metadata": {},
   "outputs": [
    {
     "data": {
      "text/plain": [
       "22"
      ]
     },
     "execution_count": 38,
     "metadata": {},
     "output_type": "execute_result"
    }
   ],
   "source": [
    "len(features)"
   ]
  },
  {
   "cell_type": "code",
   "execution_count": 39,
   "id": "adbd04b0-2bf2-491b-abc0-f3dddd26945e",
   "metadata": {},
   "outputs": [],
   "source": [
    "import lime\n",
    "import lime.lime_tabular"
   ]
  },
  {
   "cell_type": "code",
   "execution_count": 40,
   "id": "d9f4cccd-8f74-4244-8c6b-ad6a10791074",
   "metadata": {},
   "outputs": [],
   "source": [
    "profession = training_data[['user_occupation_label','user_occupation_text']].drop_duplicates()\n",
    "profession_dict = dict(zip(profession.user_occupation_label, profession.user_occupation_text))\n",
    "title = training_data[['movie_id','movie_title']].drop_duplicates()\n",
    "title['movie_id'] = encoded_labels['movie_id'].inverse_transform(title['movie_id'])\n",
    "title_dict = dict(zip(title.movie_id, title.movie_title))\n",
    "\n",
    "def get_feature_value(df, col):\n",
    "    if 'history_' in col:\n",
    "        return title_dict.get(\"b'{}'\".format(df[col].values[0]),'UNK')\n",
    "    elif col=='movie_id':\n",
    "        return title_dict.get(df[col].values[0],'UNK')\n",
    "    elif 'occupation' in col:\n",
    "        return profession_dict[df[col].astype(int).values[0]]\n",
    "    else:\n",
    "        return df[col].values[0]"
   ]
  },
  {
   "cell_type": "code",
   "execution_count": 62,
   "id": "aae0e26a-ddbb-48af-b73f-dc2c7e711022",
   "metadata": {},
   "outputs": [],
   "source": [
    "import sklearn\n",
    "def generate_similarity_explanations(loc = 150):\n",
    "    continuous_features = ['bucketized_user_age','raw_user_age']\n",
    "    categorical_features = ['genres_{}'.format(i) for i in range(6)] + ['history_{}'.format(i) for i in range(10)] + ['user_gender', 'user_id', 'user_occupation_label','movie_id']\n",
    "    features = continuous_features + categorical_features\n",
    "    explainer = lime.lime_tabular.LimeTabularExplainer(training_data[continuous_features + categorical_features].to_numpy(), \n",
    "                                                   feature_names=[features.index(col) for col in features], \n",
    "                                                   categorical_features=[features.index(col) for col in categorical_features], \n",
    "                                                   verbose=True, mode='regression', discretize_continuous=False)\n",
    "    def get_similarity(arr):\n",
    "        shape_tuple = np.shape(arr)        \n",
    "        if len(shape_tuple) == 1:\n",
    "            arr = arr.reshape(1, -1)\n",
    "        n_rows, n_columns = arr.shape\n",
    "\n",
    "        input_df = pd.DataFrame({features[i]:arr[:,i] for i in range(n_columns)})\n",
    "        for col in categorical_features:\n",
    "            input_df[col] = encoded_labels[col].inverse_transform(input_df[col].astype(int))\n",
    "        input_df['movie_genres'] = input_df[['genres_{}'.format(i) for i in range(6)]].apply(lambda x:list(x.values), axis=1)\n",
    "        input_df['watch_history'] = input_df[['history_{}'.format(i) for i in range(10)]].apply(lambda x:list(x.values), axis=1)\n",
    "        input_df['user_gender'] = input_df['user_gender'].astype(int)\n",
    "        input_df = input_df.to_dict('list')\n",
    "        tensor_features = {}\n",
    "        for col, transform in zip(input_columns, col_tf_transforms):\n",
    "            tensor = transform(input_df[col])\n",
    "            tensor_features[col] = tensor\n",
    "        cache = tf.data.Dataset.from_tensor_slices(tensor_features).batch(n_rows).cache().prefetch(tf.data.AUTOTUNE)\n",
    "        for batch in cache:\n",
    "            data = batch\n",
    "        query_embedding, movie_output, user_output = model._query_model(data)\n",
    "        movie_embedding = movie_output[1].numpy()\n",
    "        movie_embedding = sklearn.preprocessing.normalize(movie_embedding)\n",
    "        user_embedding = user_output[1].numpy()\n",
    "        user_embedding = sklearn.preprocessing.normalize(user_embedding)\n",
    "        return np.diag(np.dot(movie_embedding, user_embedding.T))\n",
    "    arr = training_data[continuous_features + categorical_features].to_numpy()[loc]\n",
    "    similarity_score = get_similarity(arr)\n",
    "    arr = training_data[continuous_features + categorical_features].to_numpy()[loc]\n",
    "    exp = explainer.explain_instance(arr, get_similarity, num_features=22)\n",
    "    local_explanations = exp.local_exp[1]\n",
    "    shape_tuple = np.shape(arr)        \n",
    "    if len(shape_tuple) == 1:\n",
    "        arr = arr.reshape(1, -1)\n",
    "    n_rows, n_columns = arr.shape\n",
    "\n",
    "    input_df = pd.DataFrame({features[i]:arr[:,i] for i in range(n_columns)})\n",
    "    for col in categorical_features:\n",
    "        input_df[col] = encoded_labels[col].inverse_transform(input_df[col].astype(int))\n",
    "    input_df['movie_genres'] = input_df[['genres_{}'.format(i) for i in range(6)]].apply(lambda x:list(x.values), axis=1)\n",
    "    input_df['watch_history'] = input_df[['history_{}'.format(i) for i in range(10)]].apply(lambda x:list(x.values), axis=1)\n",
    "    input_df['user_gender'] = input_df['user_gender'].astype(int)\n",
    "    feature_names = [features[i] for i, score in local_explanations]\n",
    "    importance = [score for i, score in local_explanations]\n",
    "    feature_value = [get_feature_value(input_df, features[i]) for i, score in local_explanations]\n",
    "    exp_dict = pd.DataFrame({'feature_name':feature_names,'feature_value':feature_value, 'importance_score':importance})\n",
    "    return exp, exp_dict, similarity_score\n",
    "\n",
    "def generate_top_recommendation_explanations(loc = 150):\n",
    "    continuous_features = ['bucketized_user_age','raw_user_age']\n",
    "    categorical_features = ['history_{}'.format(i) for i in range(10)] + ['user_gender', 'user_id', 'user_occupation_label']\n",
    "    features = continuous_features + categorical_features\n",
    "    explainer = lime.lime_tabular.LimeTabularExplainer(training_data[continuous_features + categorical_features].to_numpy(), class_names=[0, 1],\n",
    "                                                   feature_names=[features.index(col) for col in features], \n",
    "                                                   categorical_features=[features.index(col) for col in categorical_features], \n",
    "                                                   verbose=True, mode='classification', discretize_continuous=True)    \n",
    "    def get_top_movie(arr, explainations=True):\n",
    "        shape_tuple = np.shape(arr)\n",
    "        if len(shape_tuple) == 1:\n",
    "            arr = arr.reshape(1, -1)\n",
    "        n_rows, n_columns = arr.shape\n",
    "        input_df = pd.DataFrame({features[i]:arr[:,i] for i in range(n_columns)})\n",
    "        for col in categorical_features:\n",
    "            input_df[col] = encoded_labels[col].inverse_transform(input_df[col].astype(int))\n",
    "        input_df['watch_history'] = input_df[['history_{}'.format(i) for i in range(10)]].apply(lambda x:list(x.values), axis=1)\n",
    "        input_df['user_gender'] = input_df['user_gender'].astype(int)\n",
    "        input_df = input_df.to_dict('list')\n",
    "        tensor_features = {}\n",
    "        for col, transform in zip(input_columns, col_tf_transforms):\n",
    "            if col in features + ['watch_history']:\n",
    "                tensor = transform(input_df[col])\n",
    "                tensor_features[col] = tensor\n",
    "        cache = tf.data.Dataset.from_tensor_slices(tensor_features).batch(n_rows).cache().prefetch(tf.data.AUTOTUNE)\n",
    "        for batch in cache:\n",
    "            data = batch\n",
    "        afinity_scores, movie_ids = brute_force_layer(data)\n",
    "        if explainations:\n",
    "            pred = np.zeros((n_rows, 2))\n",
    "            out = movie_ids[:,0].numpy()\n",
    "            out = (out == top_movie)#.astype(int)\n",
    "            if len(out.shape)==2:\n",
    "                out = out.reshape(-1,)\n",
    "            pred[:,0] = out\n",
    "            pred[:,1] = 1 - out\n",
    "            return pred\n",
    "        else:\n",
    "            return movie_ids[:,0].numpy()\n",
    "    arr = training_data[continuous_features + categorical_features].to_numpy()[loc]\n",
    "    top_movie = get_top_movie(arr, explainations=False)#.numpy()\n",
    "    arr = training_data[continuous_features + categorical_features].to_numpy()[loc]\n",
    "    exp = explainer.explain_instance(arr, get_top_movie)\n",
    "    local_explanations = exp.local_exp[1]\n",
    "    shape_tuple = np.shape(arr)        \n",
    "    if len(shape_tuple) == 1:\n",
    "        arr = arr.reshape(1, -1)\n",
    "    n_rows, n_columns = arr.shape\n",
    "\n",
    "    input_df = pd.DataFrame({features[i]:arr[:,i] for i in range(n_columns)})\n",
    "    for col in categorical_features:\n",
    "        input_df[col] = encoded_labels[col].inverse_transform(input_df[col].astype(int))\n",
    "    #input_df['movie_genres'] = input_df[['genres_{}'.format(i) for i in range(6)]].apply(lambda x:list(x.values), axis=1)\n",
    "    input_df['watch_history'] = input_df[['history_{}'.format(i) for i in range(10)]].apply(lambda x:list(x.values), axis=1)\n",
    "    input_df['user_gender'] = input_df['user_gender'].astype(int)\n",
    "    feature_names = [features[i] for i, score in local_explanations]\n",
    "    importance = [score for i, score in local_explanations]\n",
    "    feature_value = [get_feature_value(input_df, features[i]) for i, score in local_explanations]\n",
    "    exp_dict = pd.DataFrame({'feature_name':feature_names,'feature_value':feature_value, 'importance_score':importance})\n",
    "    return exp, exp_dict, top_movie"
   ]
  },
  {
   "cell_type": "code",
   "execution_count": 63,
   "id": "b826530b-5021-47a8-9378-b70b6f5b3824",
   "metadata": {},
   "outputs": [
    {
     "name": "stdout",
     "output_type": "stream",
     "text": [
      "Intercept -0.060716361795733205\n",
      "Prediction_local [-0.06071637]\n",
      "Right: -0.060716372\n"
     ]
    },
    {
     "name": "stderr",
     "output_type": "stream",
     "text": [
      "2022-09-26 09:29:36.880895: W tensorflow/core/framework/cpu_allocator_impl.cc:82] Allocation of 2000000000 exceeds 10% of free system memory.\n"
     ]
    },
    {
     "name": "stdout",
     "output_type": "stream",
     "text": [
      "Intercept 1.0131593809848063\n",
      "Prediction_local [0.03678913]\n",
      "Right: 0.0\n"
     ]
    }
   ],
   "source": [
    "exp, exps_similarity, similarity = generate_similarity_explanations(loc = 150)\n",
    "exp, exps_reco, top_movie = generate_top_recommendation_explanations(loc = 150)"
   ]
  },
  {
   "cell_type": "code",
   "execution_count": 64,
   "id": "332d16e6-e554-4205-b871-92f0c1c35909",
   "metadata": {},
   "outputs": [
    {
     "data": {
      "text/html": [
       "<div>\n",
       "<style scoped>\n",
       "    .dataframe tbody tr th:only-of-type {\n",
       "        vertical-align: middle;\n",
       "    }\n",
       "\n",
       "    .dataframe tbody tr th {\n",
       "        vertical-align: top;\n",
       "    }\n",
       "\n",
       "    .dataframe thead th {\n",
       "        text-align: right;\n",
       "    }\n",
       "</style>\n",
       "<table border=\"1\" class=\"dataframe\">\n",
       "  <thead>\n",
       "    <tr style=\"text-align: right;\">\n",
       "      <th></th>\n",
       "      <th>feature_name</th>\n",
       "      <th>feature_value</th>\n",
       "      <th>importance_score</th>\n",
       "    </tr>\n",
       "  </thead>\n",
       "  <tbody>\n",
       "    <tr>\n",
       "      <th>0</th>\n",
       "      <td>history_1</td>\n",
       "      <td>b\"It's My Party (1995)\"</td>\n",
       "      <td>-2.012593e-09</td>\n",
       "    </tr>\n",
       "    <tr>\n",
       "      <th>1</th>\n",
       "      <td>history_7</td>\n",
       "      <td>b'Welcome to the Dollhouse (1995)'</td>\n",
       "      <td>-1.319831e-09</td>\n",
       "    </tr>\n",
       "    <tr>\n",
       "      <th>2</th>\n",
       "      <td>history_0</td>\n",
       "      <td>b'Time to Kill, A (1996)'</td>\n",
       "      <td>-8.815801e-10</td>\n",
       "    </tr>\n",
       "    <tr>\n",
       "      <th>3</th>\n",
       "      <td>movie_id</td>\n",
       "      <td>b'Dragonheart (1996)'</td>\n",
       "      <td>-6.950173e-10</td>\n",
       "    </tr>\n",
       "    <tr>\n",
       "      <th>4</th>\n",
       "      <td>history_6</td>\n",
       "      <td>b'Phenomenon (1996)'</td>\n",
       "      <td>-6.522432e-10</td>\n",
       "    </tr>\n",
       "    <tr>\n",
       "      <th>5</th>\n",
       "      <td>history_3</td>\n",
       "      <td>b'Twelve Monkeys (1995)'</td>\n",
       "      <td>-6.139352e-10</td>\n",
       "    </tr>\n",
       "    <tr>\n",
       "      <th>6</th>\n",
       "      <td>history_4</td>\n",
       "      <td>b'Con Air (1997)'</td>\n",
       "      <td>-5.788472e-10</td>\n",
       "    </tr>\n",
       "    <tr>\n",
       "      <th>7</th>\n",
       "      <td>history_2</td>\n",
       "      <td>b'Sleepers (1996)'</td>\n",
       "      <td>-4.144249e-10</td>\n",
       "    </tr>\n",
       "    <tr>\n",
       "      <th>8</th>\n",
       "      <td>genres_0</td>\n",
       "      <td>-1</td>\n",
       "      <td>4.101851e-10</td>\n",
       "    </tr>\n",
       "    <tr>\n",
       "      <th>9</th>\n",
       "      <td>user_id</td>\n",
       "      <td>b'119'</td>\n",
       "      <td>-2.917431e-10</td>\n",
       "    </tr>\n",
       "    <tr>\n",
       "      <th>10</th>\n",
       "      <td>history_8</td>\n",
       "      <td>b'Independence Day (ID4) (1996)'</td>\n",
       "      <td>-2.331988e-10</td>\n",
       "    </tr>\n",
       "    <tr>\n",
       "      <th>11</th>\n",
       "      <td>user_occupation_label</td>\n",
       "      <td>b'doctor'</td>\n",
       "      <td>1.902206e-10</td>\n",
       "    </tr>\n",
       "    <tr>\n",
       "      <th>12</th>\n",
       "      <td>genres_1</td>\n",
       "      <td>-1</td>\n",
       "      <td>1.646489e-10</td>\n",
       "    </tr>\n",
       "    <tr>\n",
       "      <th>13</th>\n",
       "      <td>genres_3</td>\n",
       "      <td>0</td>\n",
       "      <td>-1.519554e-10</td>\n",
       "    </tr>\n",
       "    <tr>\n",
       "      <th>14</th>\n",
       "      <td>history_5</td>\n",
       "      <td>b'Leaving Las Vegas (1995)'</td>\n",
       "      <td>-1.332786e-10</td>\n",
       "    </tr>\n",
       "    <tr>\n",
       "      <th>15</th>\n",
       "      <td>genres_2</td>\n",
       "      <td>-1</td>\n",
       "      <td>9.643416e-11</td>\n",
       "    </tr>\n",
       "    <tr>\n",
       "      <th>16</th>\n",
       "      <td>genres_4</td>\n",
       "      <td>1</td>\n",
       "      <td>6.423112e-11</td>\n",
       "    </tr>\n",
       "    <tr>\n",
       "      <th>17</th>\n",
       "      <td>history_9</td>\n",
       "      <td>b'Star Trek: First Contact (1996)'</td>\n",
       "      <td>-5.043758e-11</td>\n",
       "    </tr>\n",
       "    <tr>\n",
       "      <th>18</th>\n",
       "      <td>user_gender</td>\n",
       "      <td>1</td>\n",
       "      <td>4.528697e-11</td>\n",
       "    </tr>\n",
       "    <tr>\n",
       "      <th>19</th>\n",
       "      <td>genres_5</td>\n",
       "      <td>8</td>\n",
       "      <td>2.986952e-11</td>\n",
       "    </tr>\n",
       "    <tr>\n",
       "      <th>20</th>\n",
       "      <td>bucketized_user_age</td>\n",
       "      <td>0.446429</td>\n",
       "      <td>-1.709859e-11</td>\n",
       "    </tr>\n",
       "    <tr>\n",
       "      <th>21</th>\n",
       "      <td>raw_user_age</td>\n",
       "      <td>0.438356</td>\n",
       "      <td>-1.063709e-11</td>\n",
       "    </tr>\n",
       "  </tbody>\n",
       "</table>\n",
       "</div>"
      ],
      "text/plain": [
       "             feature_name                       feature_value  \\\n",
       "0               history_1             b\"It's My Party (1995)\"   \n",
       "1               history_7  b'Welcome to the Dollhouse (1995)'   \n",
       "2               history_0           b'Time to Kill, A (1996)'   \n",
       "3                movie_id               b'Dragonheart (1996)'   \n",
       "4               history_6                b'Phenomenon (1996)'   \n",
       "5               history_3            b'Twelve Monkeys (1995)'   \n",
       "6               history_4                   b'Con Air (1997)'   \n",
       "7               history_2                  b'Sleepers (1996)'   \n",
       "8                genres_0                                  -1   \n",
       "9                 user_id                              b'119'   \n",
       "10              history_8    b'Independence Day (ID4) (1996)'   \n",
       "11  user_occupation_label                           b'doctor'   \n",
       "12               genres_1                                  -1   \n",
       "13               genres_3                                   0   \n",
       "14              history_5         b'Leaving Las Vegas (1995)'   \n",
       "15               genres_2                                  -1   \n",
       "16               genres_4                                   1   \n",
       "17              history_9  b'Star Trek: First Contact (1996)'   \n",
       "18            user_gender                                   1   \n",
       "19               genres_5                                   8   \n",
       "20    bucketized_user_age                            0.446429   \n",
       "21           raw_user_age                            0.438356   \n",
       "\n",
       "    importance_score  \n",
       "0      -2.012593e-09  \n",
       "1      -1.319831e-09  \n",
       "2      -8.815801e-10  \n",
       "3      -6.950173e-10  \n",
       "4      -6.522432e-10  \n",
       "5      -6.139352e-10  \n",
       "6      -5.788472e-10  \n",
       "7      -4.144249e-10  \n",
       "8       4.101851e-10  \n",
       "9      -2.917431e-10  \n",
       "10     -2.331988e-10  \n",
       "11      1.902206e-10  \n",
       "12      1.646489e-10  \n",
       "13     -1.519554e-10  \n",
       "14     -1.332786e-10  \n",
       "15      9.643416e-11  \n",
       "16      6.423112e-11  \n",
       "17     -5.043758e-11  \n",
       "18      4.528697e-11  \n",
       "19      2.986952e-11  \n",
       "20     -1.709859e-11  \n",
       "21     -1.063709e-11  "
      ]
     },
     "execution_count": 64,
     "metadata": {},
     "output_type": "execute_result"
    }
   ],
   "source": [
    "exps_similarity"
   ]
  },
  {
   "cell_type": "code",
   "execution_count": 65,
   "id": "fc7dc54d-6ee8-428e-bc81-42d3814bd411",
   "metadata": {},
   "outputs": [
    {
     "data": {
      "text/html": [
       "<div>\n",
       "<style scoped>\n",
       "    .dataframe tbody tr th:only-of-type {\n",
       "        vertical-align: middle;\n",
       "    }\n",
       "\n",
       "    .dataframe tbody tr th {\n",
       "        vertical-align: top;\n",
       "    }\n",
       "\n",
       "    .dataframe thead th {\n",
       "        text-align: right;\n",
       "    }\n",
       "</style>\n",
       "<table border=\"1\" class=\"dataframe\">\n",
       "  <thead>\n",
       "    <tr style=\"text-align: right;\">\n",
       "      <th></th>\n",
       "      <th>feature_name</th>\n",
       "      <th>feature_value</th>\n",
       "      <th>importance_score</th>\n",
       "    </tr>\n",
       "  </thead>\n",
       "  <tbody>\n",
       "    <tr>\n",
       "      <th>0</th>\n",
       "      <td>user_gender</td>\n",
       "      <td>1</td>\n",
       "      <td>-0.283706</td>\n",
       "    </tr>\n",
       "    <tr>\n",
       "      <th>1</th>\n",
       "      <td>history_2</td>\n",
       "      <td>b'Sleepers (1996)'</td>\n",
       "      <td>-0.252626</td>\n",
       "    </tr>\n",
       "    <tr>\n",
       "      <th>2</th>\n",
       "      <td>history_1</td>\n",
       "      <td>b\"It's My Party (1995)\"</td>\n",
       "      <td>-0.239644</td>\n",
       "    </tr>\n",
       "    <tr>\n",
       "      <th>3</th>\n",
       "      <td>history_5</td>\n",
       "      <td>b'Leaving Las Vegas (1995)'</td>\n",
       "      <td>0.170756</td>\n",
       "    </tr>\n",
       "    <tr>\n",
       "      <th>4</th>\n",
       "      <td>user_occupation_label</td>\n",
       "      <td>b'doctor'</td>\n",
       "      <td>-0.155296</td>\n",
       "    </tr>\n",
       "    <tr>\n",
       "      <th>5</th>\n",
       "      <td>history_6</td>\n",
       "      <td>b'Phenomenon (1996)'</td>\n",
       "      <td>-0.150665</td>\n",
       "    </tr>\n",
       "    <tr>\n",
       "      <th>6</th>\n",
       "      <td>history_0</td>\n",
       "      <td>b'Time to Kill, A (1996)'</td>\n",
       "      <td>-0.141480</td>\n",
       "    </tr>\n",
       "    <tr>\n",
       "      <th>7</th>\n",
       "      <td>history_7</td>\n",
       "      <td>b'Welcome to the Dollhouse (1995)'</td>\n",
       "      <td>0.082780</td>\n",
       "    </tr>\n",
       "    <tr>\n",
       "      <th>8</th>\n",
       "      <td>history_8</td>\n",
       "      <td>b'Independence Day (ID4) (1996)'</td>\n",
       "      <td>-0.067825</td>\n",
       "    </tr>\n",
       "    <tr>\n",
       "      <th>9</th>\n",
       "      <td>history_4</td>\n",
       "      <td>b'Con Air (1997)'</td>\n",
       "      <td>0.061334</td>\n",
       "    </tr>\n",
       "  </tbody>\n",
       "</table>\n",
       "</div>"
      ],
      "text/plain": [
       "            feature_name                       feature_value  importance_score\n",
       "0            user_gender                                   1         -0.283706\n",
       "1              history_2                  b'Sleepers (1996)'         -0.252626\n",
       "2              history_1             b\"It's My Party (1995)\"         -0.239644\n",
       "3              history_5         b'Leaving Las Vegas (1995)'          0.170756\n",
       "4  user_occupation_label                           b'doctor'         -0.155296\n",
       "5              history_6                b'Phenomenon (1996)'         -0.150665\n",
       "6              history_0           b'Time to Kill, A (1996)'         -0.141480\n",
       "7              history_7  b'Welcome to the Dollhouse (1995)'          0.082780\n",
       "8              history_8    b'Independence Day (ID4) (1996)'         -0.067825\n",
       "9              history_4                   b'Con Air (1997)'          0.061334"
      ]
     },
     "execution_count": 65,
     "metadata": {},
     "output_type": "execute_result"
    }
   ],
   "source": [
    "exps_reco"
   ]
  },
  {
   "cell_type": "code",
   "execution_count": 74,
   "id": "fb37e349-54e1-439c-a5e4-6aa541961aa8",
   "metadata": {},
   "outputs": [
    {
     "data": {
      "text/plain": [
       "Text(0.5, 1.0, 'Local explanation for similarity')"
      ]
     },
     "execution_count": 74,
     "metadata": {},
     "output_type": "execute_result"
    },
    {
     "data": {
      "image/png": "[encoded data removed]",
      "text/plain": [
       "<Figure size 1000x1000 with 1 Axes>"
      ]
     },
     "metadata": {},
     "output_type": "display_data"
    }
   ],
   "source": [
    "import matplotlib.pyplot as plt\n",
    "figsize=(10,10)\n",
    "exp_dict = list(exps_similarity.itertuples(index=False))\n",
    "exp_tuple = [(x[0] + \"=\" + str(x[1]), float(x[2])) for x in exp_dict]\n",
    "fig = plt.figure(figsize=figsize)\n",
    "vals = [x[1] for x in exp_tuple]\n",
    "names = [x[0] for x in exp_tuple]\n",
    "vals.reverse()\n",
    "names.reverse()\n",
    "colors = ['green' if x > 0 else 'red' for x in vals]\n",
    "pos = np.arange(len(exp_tuple)) + .5\n",
    "plt.barh(pos, vals, align='center', color=colors)\n",
    "plt.yticks(pos, names)\n",
    "title = 'Local explanation for similarity'\n",
    "plt.title(title)"
   ]
  },
  {
   "cell_type": "code",
   "execution_count": 75,
   "id": "93f6a49c-dd6a-4f84-891f-baeaf53379d6",
   "metadata": {},
   "outputs": [
    {
     "data": {
      "text/plain": [
       "Text(0.5, 1.0, 'Local explanation for top movie')"
      ]
     },
     "execution_count": 75,
     "metadata": {},
     "output_type": "execute_result"
    },
    {
     "data": {
      "image/png": "[encoded data removed]",
      "text/plain": [
       "<Figure size 1000x1000 with 1 Axes>"
      ]
     },
     "metadata": {},
     "output_type": "display_data"
    }
   ],
   "source": [
    "import matplotlib.pyplot as plt\n",
    "figsize=(10,10)\n",
    "exp_dict = list(exps_reco.itertuples(index=False))\n",
    "exp_tuple = [(x[0] + \"=\" + str(x[1]), float(x[2])) for x in exp_dict]\n",
    "fig = plt.figure(figsize=figsize)\n",
    "vals = [x[1] for x in exp_tuple]\n",
    "names = [x[0] for x in exp_tuple]\n",
    "vals.reverse()\n",
    "names.reverse()\n",
    "colors = ['green' if x > 0 else 'red' for x in vals]\n",
    "pos = np.arange(len(exp_tuple)) + .5\n",
    "plt.barh(pos, vals, align='center', color=colors)\n",
    "plt.yticks(pos, names)\n",
    "title = 'Local explanation for top movie'\n",
    "plt.title(title)"
   ]
  },
  {
   "cell_type": "code",
   "execution_count": 71,
   "id": "79c7083d-f69a-4028-bfa6-3a9c054504d8",
   "metadata": {},
   "outputs": [
    {
     "data": {
      "text/plain": [
       "b'Thin Line Between Love and Hate, A (1996)'"
      ]
     },
     "execution_count": 71,
     "metadata": {},
     "output_type": "execute_result"
    }
   ],
   "source": [
    "title_dict[str(top_movie[0])]"
   ]
  },
  {
   "cell_type": "code",
   "execution_count": 73,
   "id": "2f4b941e-3562-4e76-b726-ff350d5c3bd3",
   "metadata": {},
   "outputs": [
    {
     "data": {
      "text/plain": [
       "bucketized_user_age                                               0.446429\n",
       "movie_genres                                         [-1, -1, -1, 0, 1, 8]\n",
       "movie_id                                                              1097\n",
       "movie_title                                          b'Dragonheart (1996)'\n",
       "raw_user_age                                                      0.438356\n",
       "timestamp                                                        874775406\n",
       "user_gender                                                              1\n",
       "user_id                                                                 22\n",
       "user_occupation_label                                                    4\n",
       "user_occupation_text                                         b'programmer'\n",
       "user_rating                                                            0.8\n",
       "user_zip_code                                                     b'67401'\n",
       "user_history             ([b'300', b'286', b'322', b'323', b'458', b'86...\n",
       "watch_history            [282, 1086, 628, 7, 1016, 276, 125, 93, 121, 222]\n",
       "rating_history           [1.0, 0.8, 0.8, 1.0, 1.0, 0.4, 1.0, 0.8, 0.8, ...\n",
       "genres_0                                                                 0\n",
       "genres_1                                                                 0\n",
       "genres_2                                                                 0\n",
       "genres_3                                                                 1\n",
       "genres_4                                                                 2\n",
       "genres_5                                                                17\n",
       "history_0                                                              735\n",
       "history_1                                                               95\n",
       "history_2                                                             1121\n",
       "history_3                                                             1198\n",
       "history_4                                                               20\n",
       "history_5                                                              743\n",
       "history_6                                                              269\n",
       "history_7                                                             1463\n",
       "history_8                                                              232\n",
       "history_9                                                              689\n",
       "Name: 150, dtype: object"
      ]
     },
     "execution_count": 73,
     "metadata": {},
     "output_type": "execute_result"
    }
   ],
   "source": [
    "training_data.iloc[150]"
   ]
  },
  {
   "cell_type": "code",
   "execution_count": null,
   "id": "22a79038-df90-4275-967f-6a4ed86a689c",
   "metadata": {},
   "outputs": [],
   "source": []
  }
 ],
 "metadata": {
  "kernelspec": {
   "display_name": "Python 3 (ipykernel)",
   "language": "python",
   "name": "python3"
  },
  "language_info": {
   "codemirror_mode": {
    "name": "ipython",
    "version": 3
   },
   "file_extension": ".py",
   "mimetype": "text/x-python",
   "name": "python",
   "nbconvert_exporter": "python",
   "pygments_lexer": "ipython3",
   "version": "3.9.13"
  }
 },
 "nbformat": 4,
 "nbformat_minor": 5
}
